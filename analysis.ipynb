{
 "cells": [
  {
   "cell_type": "markdown",
   "metadata": {
    "collapsed": true,
    "pycharm": {
     "name": "#%% md\n"
    }
   },
   "source": [
    "# 基于每日更新的数据，预测美国的最新新冠感染人数"
   ]
  },
  {
   "cell_type": "markdown",
   "metadata": {},
   "source": [
    "> 先把数据更新到data, 然后每天刷新数据源。<br/>\n",
    "> 详见```SourceDataObtain.py```"
   ]
  },
  {
   "cell_type": "markdown",
   "metadata": {
    "pycharm": {
     "name": "#%% md\n"
    }
   },
   "source": [
    "## 数据预处理\n",
    "> 数据集进行归一化处理，首先设置数据集为浮点类型，然后取数据集最大和最小项差值为放缩尺度，对每一个数据集数值进行归一化。"
   ]
  },
  {
   "cell_type": "markdown",
   "metadata": {},
   "source": [
    "对源数据进行读取"
   ]
  },
  {
   "cell_type": "code",
   "execution_count": 5,
   "metadata": {
    "pycharm": {
     "name": "#%%\n"
    }
   },
   "outputs": [],
   "source": [
    "import torch\n",
    "import utils\n",
    "import datetime\n",
    "import numpy as np\n",
    "import pandas as pd\n",
    "import csv"
   ]
  },
  {
   "cell_type": "code",
   "execution_count": 10,
   "metadata": {
    "pycharm": {
     "name": "#%%\n"
    },
    "scrolled": true
   },
   "outputs": [
    {
     "name": "stdout",
     "output_type": "stream",
     "text": [
      "[['Province/State', 'Country/Region', 'Lat', 'Long', '1/22/20', '1/23/20', '1/24/20', '1/25/20', '1/26/20', '1/27/20', '1/28/20', '1/29/20', '1/30/20', '1/31/20', '2/1/20', '2/2/20', '2/3/20', '2/4/20', '2/5/20', '2/6/20', '2/7/20', '2/8/20', '2/9/20', '2/10/20', '2/11/20', '2/12/20', '2/13/20', '2/14/20', '2/15/20', '2/16/20', '2/17/20', '2/18/20', '2/19/20', '2/20/20', '2/21/20', '2/22/20', '2/23/20', '2/24/20', '2/25/20', '2/26/20', '2/27/20', '2/28/20', '2/29/20', '3/1/20', '3/2/20', '3/3/20', '3/4/20', '3/5/20', '3/6/20', '3/7/20', '3/8/20', '3/9/20', '3/10/20', '3/11/20', '3/12/20', '3/13/20', '3/14/20', '3/15/20', '3/16/20', '3/17/20', '3/18/20', '3/19/20', '3/20/20', '3/21/20', '3/22/20', '3/23/20', '3/24/20', '3/25/20', '3/26/20', '3/27/20', '3/28/20', '3/29/20', '3/30/20', '3/31/20', '4/1/20', '4/2/20', '4/3/20', '4/4/20', '4/5/20', '4/6/20', '4/7/20', '4/8/20', '4/9/20', '4/10/20', '4/11/20', '4/12/20', '4/13/20', '4/14/20', '4/15/20', '4/16/20', '4/17/20', '4/18/20', '4/19/20', '4/20/20', '4/21/20', '4/22/20', '4/23/20', '4/24/20', '4/25/20', '4/26/20', '4/27/20', '4/28/20', '4/29/20', '4/30/20', '5/1/20', '5/2/20', '5/3/20', '5/4/20', '5/5/20', '5/6/20', '5/7/20', '5/8/20', '5/9/20', '5/10/20', '5/11/20', '5/12/20', '5/13/20', '5/14/20', '5/15/20', '5/16/20', '5/17/20', '5/18/20', '5/19/20', '5/20/20', '5/21/20', '5/22/20', '5/23/20', '5/24/20', '5/25/20', '5/26/20', '5/27/20', '5/28/20', '5/29/20', '5/30/20', '5/31/20', '6/1/20', '6/2/20', '6/3/20', '6/4/20', '6/5/20', '6/6/20', '6/7/20', '6/8/20', '6/9/20', '6/10/20', '6/11/20', '6/12/20', '6/13/20', '6/14/20', '6/15/20', '6/16/20', '6/17/20', '6/18/20', '6/19/20', '6/20/20', '6/21/20', '6/22/20', '6/23/20', '6/24/20', '6/25/20', '6/26/20', '6/27/20', '6/28/20', '6/29/20', '6/30/20', '7/1/20', '7/2/20', '7/3/20', '7/4/20', '7/5/20', '7/6/20', '7/7/20', '7/8/20', '7/9/20', '7/10/20', '7/11/20', '7/12/20', '7/13/20', '7/14/20', '7/15/20', '7/16/20', '7/17/20', '7/18/20', '7/19/20', '7/20/20', '7/21/20', '7/22/20', '7/23/20', '7/24/20', '7/25/20', '7/26/20', '7/27/20', '7/28/20', '7/29/20', '7/30/20', '7/31/20', '8/1/20', '8/2/20', '8/3/20', '8/4/20', '8/5/20', '8/6/20', '8/7/20', '8/8/20', '8/9/20', '8/10/20', '8/11/20', '8/12/20', '8/13/20', '8/14/20', '8/15/20', '8/16/20', '8/17/20', '8/18/20', '8/19/20', '8/20/20', '8/21/20', '8/22/20', '8/23/20', '8/24/20', '8/25/20', '8/26/20', '8/27/20', '8/28/20', '8/29/20', '8/30/20', '8/31/20', '9/1/20', '9/2/20', '9/3/20', '9/4/20', '9/5/20', '9/6/20', '9/7/20', '9/8/20', '9/9/20', '9/10/20', '9/11/20', '9/12/20', '9/13/20', '9/14/20', '9/15/20', '9/16/20', '9/17/20', '9/18/20', '9/19/20', '9/20/20', '9/21/20', '9/22/20', '9/23/20', '9/24/20', '9/25/20', '9/26/20', '9/27/20', '9/28/20', '9/29/20', '9/30/20', '10/1/20', '10/2/20', '10/3/20', '10/4/20', '10/5/20', '10/6/20', '10/7/20', '10/8/20', '10/9/20', '10/10/20', '10/11/20', '10/12/20', '10/13/20', '10/14/20', '10/15/20', '10/16/20', '10/17/20', '10/18/20', '10/19/20', '10/20/20', '10/21/20', '10/22/20', '10/23/20', '10/24/20', '10/25/20', '10/26/20', '10/27/20', '10/28/20', '10/29/20', '10/30/20', '10/31/20', '11/1/20', '11/2/20', '11/3/20', '11/4/20', '11/5/20', '11/6/20', '11/7/20', '11/8/20', '11/9/20', '11/10/20', '11/11/20', '11/12/20', '11/13/20', '11/14/20', '11/15/20', '11/16/20', '11/17/20', '11/18/20', '11/19/20', '11/20/20', '11/21/20', '11/22/20', '11/23/20', '11/24/20', '11/25/20', '11/26/20', '11/27/20', '11/28/20', '11/29/20', '11/30/20', '12/1/20', '12/2/20', '12/3/20', '12/4/20', '12/5/20', '12/6/20', '12/7/20', '12/8/20', '12/9/20', '12/10/20', '12/11/20', '12/12/20', '12/13/20', '12/14/20', '12/15/20', '12/16/20', '12/17/20', '12/18/20', '12/19/20', '12/20/20', '12/21/20', '12/22/20', '12/23/20', '12/24/20', '12/25/20', '12/26/20', '12/27/20', '12/28/20', '12/29/20', '12/30/20', '12/31/20', '1/1/21', '1/2/21', '1/3/21', '1/4/21', '1/5/21', '1/6/21', '1/7/21', '1/8/21', '1/9/21', '1/10/21', '1/11/21', '1/12/21', '1/13/21', '1/14/21', '1/15/21', '1/16/21', '1/17/21', '1/18/21', '1/19/21', '1/20/21', '1/21/21', '1/22/21', '1/23/21', '1/24/21', '1/25/21', '1/26/21', '1/27/21', '1/28/21', '1/29/21', '1/30/21', '1/31/21', '2/1/21', '2/2/21', '2/3/21', '2/4/21', '2/5/21', '2/6/21', '2/7/21', '2/8/21', '2/9/21', '2/10/21', '2/11/21', '2/12/21', '2/13/21', '2/14/21', '2/15/21', '2/16/21', '2/17/21', '2/18/21', '2/19/21', '2/20/21', '2/21/21', '2/22/21', '2/23/21', '2/24/21', '2/25/21', '2/26/21', '2/27/21', '2/28/21', '3/1/21', '3/2/21', '3/3/21', '3/4/21', '3/5/21', '3/6/21', '3/7/21', '3/8/21', '3/9/21', '3/10/21', '3/11/21', '3/12/21', '3/13/21', '3/14/21', '3/15/21', '3/16/21', '3/17/21', '3/18/21', '3/19/21', '3/20/21', '3/21/21', '3/22/21', '3/23/21', '3/24/21', '3/25/21', '3/26/21', '3/27/21', '3/28/21', '3/29/21', '3/30/21', '3/31/21', '4/1/21', '4/2/21', '4/3/21', '4/4/21', '4/5/21', '4/6/21', '4/7/21', '4/8/21', '4/9/21', '4/10/21', '4/11/21', '4/12/21', '4/13/21', '4/14/21', '4/15/21', '4/16/21', '4/17/21', '4/18/21', '4/19/21', '4/20/21', '4/21/21', '4/22/21', '4/23/21', '4/24/21', '4/25/21', '4/26/21', '4/27/21', '4/28/21', '4/29/21', '4/30/21', '5/1/21', '5/2/21', '5/3/21', '5/4/21', '5/5/21', '5/6/21', '5/7/21', '5/8/21', '5/9/21', '5/10/21', '5/11/21', '5/12/21', '5/13/21', '5/14/21', '5/15/21', '5/16/21', '5/17/21', '5/18/21', '5/19/21', '5/20/21', '5/21/21', '5/22/21', '5/23/21', '5/24/21', '5/25/21', '5/26/21', '5/27/21', '5/28/21', '5/29/21', '5/30/21', '5/31/21', '6/1/21', '6/2/21', '6/3/21', '6/4/21', '6/5/21', '6/6/21', '6/7/21', '6/8/21', '6/9/21', '6/10/21', '6/11/21', '6/12/21', '6/13/21', '6/14/21', '6/15/21', '6/16/21', '6/17/21', '6/18/21', '6/19/21', '6/20/21', '6/21/21', '6/22/21', '6/23/21', '6/24/21', '6/25/21', '6/26/21', '6/27/21', '6/28/21', '6/29/21', '6/30/21', '7/1/21', '7/2/21', '7/3/21', '7/4/21', '7/5/21', '7/6/21', '7/7/21', '7/8/21', '7/9/21', '7/10/21', '7/11/21', '7/12/21', '7/13/21', '7/14/21', '7/15/21', '7/16/21', '7/17/21', '7/18/21', '7/19/21', '7/20/21', '7/21/21', '7/22/21', '7/23/21', '7/24/21', '7/25/21', '7/26/21', '7/27/21'], ['', 'US', '40.0', '-100.0', '1', '1', '2', '2', '5', '5', '5', '6', '6', '8', '8', '8', '11', '11', '11', '12', '12', '12', '12', '12', '13', '13', '14', '14', '14', '14', '14', '14', '14', '14', '16', '16', '16', '16', '16', '16', '17', '17', '25', '32', '55', '74', '107', '184', '237', '403', '519', '594', '782', '1147', '1586', '2219', '2978', '3212', '4679', '6512', '9169', '13663', '20030', '26025', '34898', '46136', '56755', '68837', '86693', '105383', '125013', '143912', '165987', '192301', '224587', '256809', '289116', '321502', '351397', '382787', '413566', '444801', '480743', '515146', '544229', '571485', '598424', '627242', '652650', '682652', '715718', '743625', '769687', '799507', '825433', '854344', '887956', '920283', '950663', '977151', '1000866', '1025441', '1051900', '1081105', '1116012', '1143360', '1167681', '1191749', '1216277', '1240846', '1268275', '1295105', '1320281', '1339086', '1358384', '1381311', '1401744', '1428561', '1453294', '1477429', '1495817', '1518206', '1539185', '1561910', '1587679', '1611328', '1632427', '1652504', '1671166', '1690829', '1709380', '1731700', '1756178', '1779810', '1798793', '1816207', '1837709', '1857566', '1879224', '1904627', '1925769', '1943697', '1961313', '1979696', '2000807', '2023973', '2048801', '2074013', '2092954', '2112781', '2136448', '2163520', '2192057', '2223601', '2255881', '2281031', '2313175', '2350247', '2386125', '2426451', '2472450', '2513780', '2554514', '2595813', '2642233', '2694053', '2750689', '2802040', '2847733', '2898480', '2941586', '3002247', '3062366', '3124875', '3192932', '3252949', '3311373', '3370303', '3438354', '3506444', '3582310', '3654546', '3717082', '3777538', '3839645', '3904106', '3974685', '4043130', '4116449', '4181402', '4236218', '4293001', '4359413', '4431286', '4498752', '4567464', '4623665', '4669233', '4714734', '4773508', '4827974', '4887323', '4946626', '5000760', '5046529', '5094135', '5142138', '5198178', '5249494', '5314830', '5361781', '5400993', '5437645', '5482678', '5529998', '5574039', '5622882', '5665946', '5700193', '5736675', '5777029', '5822201', '5867594', '5914426', '5957180', '5991584', '6026946', '6068792', '6109810', '6154061', '6204443', '6247601', '6278819', '6302432', '6329658', '6363707', '6399763', '6447532', '6488633', '6523005', '6557428', '6596920', '6635950', '6681080', '6730362', '6772564', '6811011', '6862889', '6902755', '6941824', '6988927', '7037222', '7081895', '7119423', '7152717', '7196055', '7235498', '7281148', '7336098', '7384675', '7420413', '7459789', '7505078', '7556134', '7614733', '7671117', '7726070', '7772051', '7813825', '7866056', '7925834', '7990714', '8059861', '8116620', '8165987', '8233704', '8295660', '8358961', '8435271', '8517204', '8599971', '8662175', '8729485', '8806323', '8885749', '8976768', '9076032', '9165786', '9270686', '9355897', '9483095', '9587636', '9717003', '9845036', '9972546', '10087716', '10208150', '10348654', '10495404', '10660154', '10840552', '11008478', '11144834', '11307458', '11471416', '11644667', '11836177', '12034510', '12213946', '12360893', '12534982', '12710526', '12893929', '13006455', '13214388', '13370049', '13510377', '13670698', '13859037', '14061931', '14285352', '14517996', '14733807', '14915060', '15109469', '15333921', '15556569', '15787997', '16028086', '16245883', '16433854', '16628168', '16837160', '17083804', '17323704', '17575536', '17767638', '17955653', '18154356', '18352463', '18582087', '18776242', '18874122', '19100538', '19256383', '19430535', '19630943', '19864644', '20100244', '20254160', '20554622', '20763475', '20947480', '21182522', '21438159', '21716496', '22011753', '22272720', '22486135', '22700799', '22927766', '23158067', '23393833', '23636613', '23838471', '24016402', '24160000', '24336216', '24519477', '24713333', '24904093', '25074852', '25206050', '25357727', '25505353', '25659314', '25828118', '25994731', '26137190', '26249342', '26384317', '26499620', '26621311', '26745317', '26879739', '26983915', '27073661', '27164099', '27259364', '27354614', '27460378', '27560048', '27647267', '27712402', '27766681', '27829179', '27899318', '27969229', '28048511', '28120207', '28177359', '28233518', '28305788', '28380537', '28458041', '28535390', '28600016', '28651438', '28709536', '28766634', '28833825', '28901885', '28968304', '29026558', '29067631', '29112548', '29170215', '29228110', '29290581', '29352094', '29405125', '29443403', '29499944', '29553952', '29613232', '29673607', '29735258', '29790777', '29824599', '29876035', '29929723', '30016661', '30084207', '30161584', '30224426', '30267649', '30336922', '30398351', '30465116', '30544235', '30614122', '30677383', '30712516', '30789920', '30850594', '30925615', '31005509', '31088219', '31154906', '31201415', '31271490', '31349456', '31424859', '31499167', '31579238', '31631770', '31673891', '31741996', '31802945', '31865800', '31933078', '31995489', '32048984', '32081137', '32128705', '32179541', '32234691', '32292942', '32350861', '32396252', '32425655', '32476146', '32516869', '32561573', '32609130', '32657260', '32690935', '32712362', '32749160', '32782822', '32818648', '32856724', '32898984', '32927841', '32944716', '32973337', '33001126', '33030427', '33060633', '33088579', '33108377', '33121245', '33147060', '33169799', '33193775', '33221223', '33243082', '33255083', '33261817', '33267592', '33290532', '33307449', '33326529', '33343379', '33357285', '33362680', '33378176', '33391189', '33409836', '33424381', '33449080', '33457308', '33462085', '33474815', '33486120', '33498545', '33508938', '33529529', '33538049', '33541941', '33554275', '33565215', '33577651', '33590481', '33614196', '33621499', '33625419', '33640502', '33651852', '33664970', '33679433', '33709325', '33714064', '33717761', '33723289', '33747513', '33770444', '33790505', '33838746', '33847784', '33853948', '33888961', '33915385', '33947230', '33975642', '34054952', '34067912', '34079960', '34132071', '34174774', '34226806', '34281864', '34400655', '34428050', '34443761', '34533179', '34603919']]\n"
     ]
    }
   ],
   "source": [
    "t_list = []\n",
    "with open('data/covid19_time_series.csv', 'r') as f:\n",
    "    reader = csv.reader(f)\n",
    "    for row in reader:\n",
    "        if row[2] == 'Lat' or row[1] == 'US':\n",
    "            t_list.append(row)\n",
    "print(t_list)"
   ]
  },
  {
   "cell_type": "code",
   "execution_count": 11,
   "metadata": {
    "pycharm": {
     "name": "#%%\n"
    }
   },
   "outputs": [
    {
     "name": "stdout",
     "output_type": "stream",
     "text": [
      "  Province/State Country/Region   Lat    Long 1/22/20 1/23/20 1/24/20 1/25/20  \\\n",
      "0                            US  40.0  -100.0       1       1       2       2   \n",
      "\n",
      "  1/26/20 1/27/20  ...   7/18/21   7/19/21   7/20/21   7/21/21   7/22/21  \\\n",
      "0       5       5  ...  34079960  34132071  34174774  34226806  34281864   \n",
      "\n",
      "    7/23/21   7/24/21   7/25/21   7/26/21   7/27/21  \n",
      "0  34400655  34428050  34443761  34533179  34603919  \n",
      "\n",
      "[1 rows x 557 columns]\n"
     ]
    }
   ],
   "source": [
    "df = pd.DataFrame(t_list[1:],columns=t_list[0])\n",
    "print(df)"
   ]
  },
  {
   "cell_type": "code",
   "execution_count": 12,
   "metadata": {
    "pycharm": {
     "name": "#%%\n"
    }
   },
   "outputs": [
    {
     "name": "stdout",
     "output_type": "stream",
     "text": [
      "  1/22/20 1/23/20 1/24/20 1/25/20 1/26/20 1/27/20 1/28/20 1/29/20 1/30/20  \\\n",
      "0       1       1       2       2       5       5       5       6       6   \n",
      "\n",
      "  1/31/20  ...   7/18/21   7/19/21   7/20/21   7/21/21   7/22/21   7/23/21  \\\n",
      "0       8  ...  34079960  34132071  34174774  34226806  34281864  34400655   \n",
      "\n",
      "    7/24/21   7/25/21   7/26/21   7/27/21  \n",
      "0  34428050  34443761  34533179  34603919  \n",
      "\n",
      "[1 rows x 553 columns]\n"
     ]
    }
   ],
   "source": [
    "# 去除不必要数据\n",
    "del df['Lat']\n",
    "del df['Long']\n",
    "del df['Province/State']\n",
    "del df['Country/Region']\n",
    "print(df)"
   ]
  },
  {
   "cell_type": "code",
   "execution_count": 13,
   "metadata": {
    "pycharm": {
     "name": "#%%\n"
    },
    "scrolled": true
   },
   "outputs": [
    {
     "name": "stdout",
     "output_type": "stream",
     "text": [
      "[     0      3      0      0      1      0      2      0      0      3\n",
      "      0      0      1      0      0      0      0      1      0      1\n",
      "      0      0      0      0      0      0      0      2      0      0\n",
      "      0      0      0      1      0      8      7     23     19     33\n",
      "     77     53    166    116     75    188    365    439    633    759\n",
      "    234   1467   1833   2657   4494   6367   5995   8873  11238  10619\n",
      "  12082  17856  18690  19630  18899  22075  26314  32286  32222  32307\n",
      "  32386  29895  31390  30779  31235  35942  34403  29083  27256  26939\n",
      "  28818  25408  30002  33066  27907  26062  29820  25926  28911  33612\n",
      "  32327  30380  26488  23715  24575  26459  29205  34907  27348  24321\n",
      "  24068  24528  24569  27429  26830  25176  18805  19298  22927  20433\n",
      "  26817  24733  24135  18388  22389  20979  22725  25769  23649  21099\n",
      "  20077  18662  19663  18551  22320  24478  23632  18983  17414  21502\n",
      "  19857  21658  25403  21142  17928  17616  18383  21111  23166  24828\n",
      "  25212  18941  19827  23667  27072  28537  31544  32280  25150  32144\n",
      "  37072  35878  40326  45999  41330  40734  41299  46420  51820  56636\n",
      "  51351  45693  50747  43106  60661  60119  62509  68057  60017  58424\n",
      "  58930  68051  68090  75866  72236  62536  60456  62107  64461  70579\n",
      "  68445  73319  64953  54816  56783  66412  71873  67466  68712  56201\n",
      "  45568  45501  58774  54466  59349  59303  54134  45769  47606  48003\n",
      "  56040  51316  65336  46951  39212  36652  45033  47320  44041  48843\n",
      "  43064  34247  36482  40354  45172  45393  46832  42754  34404  35362\n",
      "  41846  41018  44251  50382  43158  31218  23613  27226  34049  36056\n",
      "  47769  41101  34372  34423  39492  39030  45130  49282  42202  38447\n",
      "  51878  39866  39069  47103  48295  44673  37528  33294  43338  39443\n",
      "  45650  54950  48577  35738  39376  45289  51056  58599  56384  54953\n",
      "  45981  41774  52231  59778  64880  69147  56759  49367  67717  61956\n",
      "  63301  76310  81933  82767  62204  67310  76838  79426  91019  99264\n",
      "  89754 104900  85211 127198 104541 129367 128033 127510 115170 120434\n",
      " 140504 146750 164750 180398 167926 136356 162624 163958 173251 191510\n",
      " 198333 179436 146947 174089 175544 183403 112526 207933 155661 140328\n",
      " 160321 188339 202894 223421 232644 215811 181253 194409 224452 222648\n",
      " 231428 240089 217797 187971 194314 208992 246644 239900 251832 192102\n",
      " 188015 198703 198107 229624 194155  97880 226416 155845 174152 200408\n",
      " 233701 235600 153916 300462 208853 184005 235042 255637 278337 295257\n",
      " 260967 213415 214664 226967 230301 235766 242780 201858 177931 143598\n",
      " 176216 183261 193856 190760 170759 131198 151677 147626 153961 168804\n",
      " 166613 142459 112152 134975 115303 121691 124006 134422 104176  89746\n",
      "  90438  95265  95250 105764  99670  87219  65135  54279  62498  70139\n",
      "  69911  79282  71696  57152  56159  72270  74749  77504  77349  64626\n",
      "  51422  58098  57098  67191  68060  66419  58254  41073  44917  57667\n",
      "  57895  62471  61513  53031  38278  56541  54008  59280  60375  61651\n",
      "  55519  33822  51436  53688  86938  67546  77377  62842  43223  69273\n",
      "  61429  66765  79119  69887  63261  35133  77404  60674  75021  79894\n",
      "  82710  66687  46509  70075  77966  75403  74308  80071  52532  42121\n",
      "  68105  60949  62855  67278  62411  53495  32153  47568  50836  55150\n",
      "  58251  57919  45391  29403  50491  40723  44704  47557  48130  33675\n",
      "  21427  36798  33662  35826  38076  42260  28857  16875  28621  27789\n",
      "  29301  30206  27946  19798  12868  25815  22739  23976  27448  21859\n",
      "  12001   6734   5775  22940  16917  19080  16850  13906   5395  15496\n",
      "  13013  18647  14545  24699   8228   4777  12730  11305  12425  10393\n",
      "  20591   8520   3892  12334  10940  12436  12830  23715   7303   3920\n",
      "  15083  11350  13118  14463  29892   4739   3697   5528  24224  22931\n",
      "  20061  48241   9038   6164  35013  26424  31845  28412  79310  12960\n",
      "  12048  52111  42703  52032  55058 118791  27395  15711  89418  70740]\n"
     ]
    }
   ],
   "source": [
    "confirmed_data_list = []\n",
    "for row in df.iterrows():\n",
    "    confirmed_data_list = [int(row[1][i]) for i in range(len(row[1])) if i > 1]\n",
    "# 获取每日新增\n",
    "confirmed_data_list = [confirmed_data_list[i+1]-confirmed_data_list[i] for i in range(len(confirmed_data_list)-1)]\n",
    "\n",
    "confirmed_data_list = np.array(confirmed_data_list)\n",
    "print(confirmed_data_list)"
   ]
  },
  {
   "cell_type": "markdown",
   "metadata": {
    "pycharm": {
     "name": "#%% md\n"
    }
   },
   "source": [
    "绘制```rolling mean, rolling std, 即rolling statistic```统计图\n",
    "> rolling statistic 是每个时间段内的平均的数据均值和标准差情况"
   ]
  },
  {
   "cell_type": "code",
   "execution_count": 14,
   "metadata": {
    "pycharm": {
     "name": "#%%\n"
    }
   },
   "outputs": [],
   "source": [
    "import matplotlib.pyplot as plt\n",
    "def test_stationary(time_series_data):\n",
    "    #这里以14天为一个窗口，每一个时间t的值由它前面14天（包括自己）的均值代替，标准差同理。\n",
    "    # 老版本 rolmean = pd.rolling_mean(time_series_data,window=14)\n",
    "    time_series_data = pd.DataFrame(time_series_data)\n",
    "    rolmean = time_series_data.rolling(14).mean()\n",
    "    # 老版本 rolstd = pd.rolling_std(time_series_data, window=14)\n",
    "    rolstd = time_series_data.rolling(14).std()\n",
    "    #plot rolling statistics:\n",
    "    fig = plt.figure()\n",
    "    fig.add_subplot()\n",
    "    # orig = plt.plot(time_series_data, color = 'blue',label='Original')\n",
    "    mean = plt.plot(rolmean , color = 'red',label = 'rolling mean')\n",
    "    std = plt.plot(rolstd, color = 'black', label= 'Rolling standard deviation')\n",
    "\n",
    "    plt.legend(loc = 'best')\n",
    "    plt.title('Rolling Mean & Standard Deviation')\n",
    "    plt.show(block=False)"
   ]
  },
  {
   "cell_type": "code",
   "execution_count": 15,
   "metadata": {
    "pycharm": {
     "name": "#%%\n"
    }
   },
   "outputs": [
    {
     "data": {
      "image/png": "[encoded data removed]",
      "text/plain": [
       "<Figure size 432x288 with 1 Axes>"
      ]
     },
     "metadata": {
      "needs_background": "light"
     },
     "output_type": "display_data"
    }
   ],
   "source": [
    "test_stationary(confirmed_data_list)"
   ]
  },
  {
   "cell_type": "code",
   "execution_count": 16,
   "metadata": {
    "pycharm": {
     "name": "#%%\n"
    },
    "scrolled": true
   },
   "outputs": [
    {
     "name": "stdout",
     "output_type": "stream",
     "text": [
      "[0.0, 9.984623679533519e-06, 0.0, 0.0, 3.3282078931778395e-06, 0.0, 6.656415786355679e-06, 0.0, 0.0, 9.984623679533519e-06, 0.0, 0.0, 3.3282078931778395e-06, 0.0, 0.0, 0.0, 0.0, 3.3282078931778395e-06, 0.0, 3.3282078931778395e-06, 0.0, 0.0, 0.0, 0.0, 0.0, 0.0, 0.0, 6.656415786355679e-06, 0.0, 0.0, 0.0, 0.0, 0.0, 3.3282078931778395e-06, 0.0, 2.6625663145422716e-05, 2.3297455252244876e-05, 7.654878154309031e-05, 6.323594997037895e-05, 0.0001098308604748687, 0.00025627200777469364, 0.00017639501833842549, 0.0005524825102675214, 0.0003860721156086294, 0.000249615591988338, 0.0006257030839174338, 0.0012147958810099114, 0.0014610832651050715, 0.0021067555963815723, 0.00252610979092198, 0.0007788006470036145, 0.0048824809792918904, 0.0061006050681949794, 0.008843048372173519, 0.014956966271941211, 0.021190699655863305, 0.01995260631960115, 0.02953118863616697, 0.03740240030353256, 0.03534223961765548, 0.04021140776537466, 0.0594284801405835, 0.062204205523493816, 0.06533272094308099, 0.06289980097316798, 0.07347018924190081, 0.08757846250108167, 0.10745452003913973, 0.10724151473397635, 0.10752441240489646, 0.1077873408284575, 0.09949677496655152, 0.10447244576685238, 0.10243891074412072, 0.10395657354340981, 0.1196224480965979, 0.11450033614899721, 0.0967942701572911, 0.0907136343364552, 0.08965859243431781, 0.09591229506559898, 0.08456310614986255, 0.09985289321112154, 0.11005052219581844, 0.09288029767491397, 0.08673975411200086, 0.09924715937456317, 0.08628711783852866, 0.09622181839966451, 0.11186772370549354, 0.10759097656276001, 0.10111095579474276, 0.08815757067449462, 0.07892845018671246, 0.0817907089748454, 0.08806105264559246, 0.0972003115202588, 0.11617775292715884, 0.09101982946262756, 0.08094534416997823, 0.08010330757300424, 0.08163428320386605, 0.08177073972748634, 0.09128941430197496, 0.08929581777396144, 0.08379096191864528, 0.06258694943120927, 0.06422775592254594, 0.07630582236688832, 0.06800527188130279, 0.08925255107135012, 0.0823165658219675, 0.08032629750184715, 0.06119908673975411, 0.07451524652035865, 0.0698224733909779, 0.0756335243724664, 0.08576458919929975, 0.07870878846576272, 0.07022185833815923, 0.06682042987133148, 0.06211101570248484, 0.06544255180355586, 0.0617415846263421, 0.07428560017572938, 0.08146787280920716, 0.0786522089315787, 0.06317937043619493, 0.057957412251798894, 0.07156312611910991, 0.06608822413483235, 0.07208232655044565, 0.08454646511039665, 0.07036497127756589, 0.05966811110889231, 0.05862971024622082, 0.061182445700288225, 0.07026179683287737, 0.07710126405335783, 0.0826327455718194, 0.08391077740279969, 0.06303958570468146, 0.06598837789803702, 0.07876869620783992, 0.09010124408411047, 0.094977068647616, 0.10498498978240177, 0.10743455079178066, 0.08370442851342266, 0.10698191451830848, 0.12338332301588886, 0.11940944279143452, 0.13421331150028956, 0.15309423487828744, 0.1375548322250401, 0.13557122032070612, 0.1374516577803516, 0.15449541040131531, 0.17246773302447563, 0.18849638223802012, 0.17090680352257523, 0.152075803262975, 0.1688965659550958, 0.14346572944332395, 0.20189241900806093, 0.20008853032995852, 0.20804294719465358, 0.22650784458600423, 0.1997490531248544, 0.1944472179510221, 0.19613129114497008, 0.22648787533864514, 0.2266176754464791, 0.25249782002383, 0.2404164253715944, 0.20813280880776938, 0.20121013638995947, 0.20670500762159608, 0.2145396090021367, 0.23490158489259874, 0.22779918924855722, 0.244020874519906, 0.21617708728558022, 0.18243904387243645, 0.18898562879831726, 0.22103294260172668, 0.23920828590637086, 0.22454087372113612, 0.2286878207560357, 0.18704861180448776, 0.1516597772763278, 0.15143678734748486, 0.19561209071363433, 0.18127417110982422, 0.19752581025221158, 0.1973727126891254, 0.18016920608928916, 0.15232874706285654, 0.1584426649626242, 0.15976396349621583, 0.18651277033368613, 0.17079031624631402, 0.21745179090866731, 0.15626268879259275, 0.13050568790728945, 0.12198547570075417, 0.14987918605347764, 0.15749079750517536, 0.14657760382344523, 0.1625596581264852, 0.14332594471181048, 0.11398113571766147, 0.12141968035891394, 0.13430650132129854, 0.15034180695062938, 0.15107734089502167, 0.1558666320533046, 0.14229420026492534, 0.11450366435689038, 0.11769208751855476, 0.13927218749791986, 0.13651643136236863, 0.14727652748101258, 0.1676817700740859, 0.14363879625376919, 0.1038999940092258, 0.07858897298160833, 0.09061378809965985, 0.11332215055481226, 0.12000186379642018, 0.1589851628492122, 0.1367926726175024, 0.11439716170430869, 0.11456690030686077, 0.13143758611737924, 0.12989995407073107, 0.15020202221911588, 0.16402074139159029, 0.14045702950789118, 0.1279596088690084, 0.17266076908227995, 0.13268233586942774, 0.13002975417856502, 0.15676857639235578, 0.16073580020102377, 0.14868103121193363, 0.12490098581517796, 0.11080935359546298, 0.14423787367454122, 0.13127450393061352, 0.15193269032356838, 0.18288502373012228, 0.1616743548268999, 0.11894349368638962, 0.13105151400177062, 0.15073120727413117, 0.16992498219408778, 0.19502965433232822, 0.1876576738489393, 0.18289500835380182, 0.15303432713621024, 0.13903255652961108, 0.17383562646857173, 0.1989536114383849, 0.21593412810937823, 0.23013559118956806, 0.188905751808881, 0.1643036390625104, 0.22537625390232374, 0.20620244822972622, 0.2106788878460504, 0.2539755443284009, 0.2726900573117399, 0.2754657826946502, 0.20702784378723432, 0.22402167328980038, 0.25573283809599884, 0.2643462401235431, 0.30293015422915376, 0.33037122830840504, 0.2987199712442838, 0.34912900799435537, 0.2835999227855769, 0.4233413875964348, 0.34793418136070453, 0.43056027051673756, 0.4261204411872383, 0.4243797884591063, 0.3833097030572918, 0.40082938940697993, 0.46762652182305914, 0.4884145083238479, 0.5483222504010491, 0.6004020475134959, 0.5588926386697819, 0.4538211154821575, 0.541246480420153, 0.5456863097496522, 0.5766153457009539, 0.6373850936224881, 0.6600934560776405, 0.5972003115202588, 0.489070165278804, 0.5794043839154369, 0.5842469264000106, 0.6104033122324953, 0.37450992138772954, 0.6920442518521477, 0.5180721688599557, 0.46704075723385985, 0.5335816176421644, 0.6268313463932211, 0.6752734122784245, 0.7435915357016861, 0.7742875971004652, 0.7182638736346028, 0.6032476652621629, 0.6470335683048106, 0.7470229180395525, 0.7410188310002596, 0.770240496302361, 0.7990661048651743, 0.7248736945104539, 0.6256065658885317, 0.6467173885549587, 0.695568824011023, 0.8208825076049551, 0.7984370735733637, 0.8381492501547617, 0.6393553926952493, 0.6257530070358315, 0.6613248929981163, 0.6593412810937822, 0.7642364092630682, 0.6461882034999434, 0.3257649885842469, 0.7535595183417537, 0.5186845591123004, 0.5796140610127071, 0.6669994874559845, 0.7778055128435543, 0.784125779632699, 0.5122644460863603, 1.0, 0.6951062031138713, 0.6124068933841883, 0.7822686396283057, 0.8508130811883033, 0.9263634003634403, 0.9826766779160093, 0.8685524292589413, 0.7102894875225486, 0.7144464191811277, 0.7553933608908947, 0.7664896060067496, 0.7846782621429665, 0.8080223123057159, 0.6718253889010923, 0.5921913586410261, 0.4779239970445514, 0.5864834821042262, 0.609930706711664, 0.6451930693398833, 0.6348889377026047, 0.5683214516311547, 0.4366542191691462, 0.5048125886135352, 0.49133001843827173, 0.5124142154415533, 0.561814805199992, 0.5545227017060393, 0.4741331682542218, 0.37326517163568107, 0.44922486038167886, 0.3837523547070844, 0.40501294672870447, 0.41271774800141114, 0.44738436141675153, 0.3467193854796946, 0.29869334558113836, 0.30099646544321745, 0.31706172494358686, 0.31701180182518923, 0.352004579614061, 0.3317224807130353, 0.290282964235078, 0.21678282112213856, 0.18065179623379995, 0.2080063369078286, 0.2334371734196005, 0.23267834201995594, 0.26386697818692545, 0.23861919310927837, 0.19021373751089987, 0.1869088270729743, 0.24052958443996245, 0.24878021180715032, 0.25794942455285524, 0.25743355232941273, 0.21508876330451104, 0.17114310628299087, 0.19336222217784613, 0.1900340142846683, 0.22362561655051222, 0.22651782920968375, 0.2210562400569789, 0.19388142260918187, 0.1366994827964934, 0.14949311393786902, 0.19192776457588648, 0.192686595975531, 0.2079164752947128, 0.20472805213304843, 0.17649819278311402, 0.12739714173506134, 0.18818020248816822, 0.17974985189474876, 0.1972961639075823, 0.20094055155061205, 0.205187344822307, 0.18477877402134046, 0.11256664736306089, 0.17118970119349536, 0.17868482536893185, 0.289347737817095, 0.22480713035259034, 0.2575267421504217, 0.20915124042308178, 0.14385512976682577, 0.23055494538410848, 0.2044484826700215, 0.22220779998801846, 0.2633244803003375, 0.23259846503051967, 0.2105457595303233, 0.11692992791101703, 0.2576166037635375, 0.20193568571067222, 0.24968548435409468, 0.2659038414175503, 0.2752760748447391, 0.22194819977235059, 0.15479162090380813, 0.2332241681144371, 0.25948705659950344, 0.2509568597692886, 0.2473124721262589, 0.26649293421464276, 0.17483741704441827, 0.14018744466854377, 0.22666759856487675, 0.20285094288129613, 0.2091945071256931, 0.2239151706372187, 0.20771678282112213, 0.17804248124554853, 0.10701186838934708, 0.15831619306268346, 0.16919277645758865, 0.18355066530875785, 0.19387143798550233, 0.1927664729649673, 0.1510706844792353, 0.09785929668310801, 0.1680445447344423, 0.13553461003388115, 0.14878420565662215, 0.15827958277585852, 0.16018664589864942, 0.11207740080276374, 0.07131351052712157, 0.12247139405315814, 0.11203413410015244, 0.11923637598098928, 0.12672484374063941, 0.1406500655656955, 0.09604209517343291, 0.05616350819737604, 0.09525663811064294, 0.09248756914351898, 0.09751981947800388, 0.10053184762132981, 0.09301009778274791, 0.06589185986913487, 0.04282737916941244, 0.08591768676238593, 0.07568011928297089, 0.07979711244683188, 0.09135265025194533, 0.07275129633697439, 0.03994182292602725, 0.02241215195265957, 0.019220400583102024, 0.07634908906949964, 0.05630329292888951, 0.06350220660183317, 0.05608030300004659, 0.046282058962531035, 0.017955681583694445, 0.0515739095126838, 0.043309969313923224, 0.06206109258408717, 0.04840878380627168, 0.08220340675359945, 0.027384494545067264, 0.01589884910571054, 0.042368086480153895, 0.037625390232375475, 0.041352983072734655, 0.03459006463379728, 0.06853112872842489, 0.028356331249875192, 0.012953385120248151, 0.041050116154455474, 0.036410594351365566, 0.041389593359559614, 0.04270090726947168, 0.07892845018671246, 0.024305902243877762, 0.013046574941257131, 0.050199359652801354, 0.037775159587568476, 0.0436594311427069, 0.04813587075903109, 0.09948679034287197, 0.01577237720576978, 0.012304384581078473, 0.018398333233487097, 0.08062250800433998, 0.07631913519846104, 0.06676717854504063, 0.16055607697479216, 0.030080342938541314, 0.0205150734535482, 0.11653054296383569, 0.08794456536933123, 0.1059867803582483, 0.09456104266096878, 0.2639601680079344, 0.0431335742955848, 0.04009824869700661, 0.1734362415213904, 0.14212446166237327, 0.17317331309782935, 0.1832444701825855, 0.39536114383848875, 0.09117625523360691, 0.05228947420971704, 0.29760169339217607, 0.23543742636340037]\n"
     ]
    }
   ],
   "source": [
    "max_v = np.max(confirmed_data_list)\n",
    "min_v = np.min(confirmed_data_list)\n",
    "scalar = max_v - min_v\n",
    "confirmed_data_list = list(map(lambda x: x/scalar, confirmed_data_list))\n",
    "print(confirmed_data_list)"
   ]
  },
  {
   "cell_type": "markdown",
   "metadata": {
    "pycharm": {
     "name": "#%% md\n"
    }
   },
   "source": [
    "## 创建数据集\n",
    "> X 是一串固定长度序列的集合<br/>\n",
    "> Y 是对应固定长度序列的输出<br/>\n",
    "> ```look_back```指的是取前```look_back```天的数据作为特征。"
   ]
  },
  {
   "cell_type": "code",
   "execution_count": 51,
   "metadata": {
    "pycharm": {
     "name": "#%%\n"
    }
   },
   "outputs": [
    {
     "name": "stdout",
     "output_type": "stream",
     "text": [
      "[[0.00000000e+00 9.98462368e-06 0.00000000e+00 ... 0.00000000e+00\n",
      "  3.32820789e-06 0.00000000e+00]\n",
      " [9.98462368e-06 0.00000000e+00 0.00000000e+00 ... 3.32820789e-06\n",
      "  0.00000000e+00 0.00000000e+00]\n",
      " [0.00000000e+00 0.00000000e+00 3.32820789e-06 ... 0.00000000e+00\n",
      "  0.00000000e+00 0.00000000e+00]\n",
      " ...\n",
      " [2.05150735e-02 1.16530543e-01 8.79445654e-02 ... 1.83244470e-01\n",
      "  3.95361144e-01 9.11762552e-02]\n",
      " [1.16530543e-01 8.79445654e-02 1.05986780e-01 ... 3.95361144e-01\n",
      "  9.11762552e-02 5.22894742e-02]\n",
      " [8.79445654e-02 1.05986780e-01 9.45610427e-02 ... 9.11762552e-02\n",
      "  5.22894742e-02 2.97601693e-01]]\n",
      "[0.00000000e+00 0.00000000e+00 0.00000000e+00 3.32820789e-06\n",
      " 0.00000000e+00 3.32820789e-06 0.00000000e+00 0.00000000e+00\n",
      " 0.00000000e+00 0.00000000e+00 0.00000000e+00 0.00000000e+00\n",
      " 0.00000000e+00 6.65641579e-06 0.00000000e+00 0.00000000e+00\n",
      " 0.00000000e+00 0.00000000e+00 0.00000000e+00 3.32820789e-06\n",
      " 0.00000000e+00 2.66256631e-05 2.32974553e-05 7.65487815e-05\n",
      " 6.32359500e-05 1.09830860e-04 2.56272008e-04 1.76395018e-04\n",
      " 5.52482510e-04 3.86072116e-04 2.49615592e-04 6.25703084e-04\n",
      " 1.21479588e-03 1.46108327e-03 2.10675560e-03 2.52610979e-03\n",
      " 7.78800647e-04 4.88248098e-03 6.10060507e-03 8.84304837e-03\n",
      " 1.49569663e-02 2.11906997e-02 1.99526063e-02 2.95311886e-02\n",
      " 3.74024003e-02 3.53422396e-02 4.02114078e-02 5.94284801e-02\n",
      " 6.22042055e-02 6.53327209e-02 6.28998010e-02 7.34701892e-02\n",
      " 8.75784625e-02 1.07454520e-01 1.07241515e-01 1.07524412e-01\n",
      " 1.07787341e-01 9.94967750e-02 1.04472446e-01 1.02438911e-01\n",
      " 1.03956574e-01 1.19622448e-01 1.14500336e-01 9.67942702e-02\n",
      " 9.07136343e-02 8.96585924e-02 9.59122951e-02 8.45631061e-02\n",
      " 9.98528932e-02 1.10050522e-01 9.28802977e-02 8.67397541e-02\n",
      " 9.92471594e-02 8.62871178e-02 9.62218184e-02 1.11867724e-01\n",
      " 1.07590977e-01 1.01110956e-01 8.81575707e-02 7.89284502e-02\n",
      " 8.17907090e-02 8.80610526e-02 9.72003115e-02 1.16177753e-01\n",
      " 9.10198295e-02 8.09453442e-02 8.01033076e-02 8.16342832e-02\n",
      " 8.17707397e-02 9.12894143e-02 8.92958178e-02 8.37909619e-02\n",
      " 6.25869494e-02 6.42277559e-02 7.63058224e-02 6.80052719e-02\n",
      " 8.92525511e-02 8.23165658e-02 8.03262975e-02 6.11990867e-02\n",
      " 7.45152465e-02 6.98224734e-02 7.56335244e-02 8.57645892e-02\n",
      " 7.87087885e-02 7.02218583e-02 6.68204299e-02 6.21110157e-02\n",
      " 6.54425518e-02 6.17415846e-02 7.42856002e-02 8.14678728e-02\n",
      " 7.86522089e-02 6.31793704e-02 5.79574123e-02 7.15631261e-02\n",
      " 6.60882241e-02 7.20823266e-02 8.45464651e-02 7.03649713e-02\n",
      " 5.96681111e-02 5.86297102e-02 6.11824457e-02 7.02617968e-02\n",
      " 7.71012641e-02 8.26327456e-02 8.39107774e-02 6.30395857e-02\n",
      " 6.59883779e-02 7.87686962e-02 9.01012441e-02 9.49770686e-02\n",
      " 1.04984990e-01 1.07434551e-01 8.37044285e-02 1.06981915e-01\n",
      " 1.23383323e-01 1.19409443e-01 1.34213312e-01 1.53094235e-01\n",
      " 1.37554832e-01 1.35571220e-01 1.37451658e-01 1.54495410e-01\n",
      " 1.72467733e-01 1.88496382e-01 1.70906804e-01 1.52075803e-01\n",
      " 1.68896566e-01 1.43465729e-01 2.01892419e-01 2.00088530e-01\n",
      " 2.08042947e-01 2.26507845e-01 1.99749053e-01 1.94447218e-01\n",
      " 1.96131291e-01 2.26487875e-01 2.26617675e-01 2.52497820e-01\n",
      " 2.40416425e-01 2.08132809e-01 2.01210136e-01 2.06705008e-01\n",
      " 2.14539609e-01 2.34901585e-01 2.27799189e-01 2.44020875e-01\n",
      " 2.16177087e-01 1.82439044e-01 1.88985629e-01 2.21032943e-01\n",
      " 2.39208286e-01 2.24540874e-01 2.28687821e-01 1.87048612e-01\n",
      " 1.51659777e-01 1.51436787e-01 1.95612091e-01 1.81274171e-01\n",
      " 1.97525810e-01 1.97372713e-01 1.80169206e-01 1.52328747e-01\n",
      " 1.58442665e-01 1.59763963e-01 1.86512770e-01 1.70790316e-01\n",
      " 2.17451791e-01 1.56262689e-01 1.30505688e-01 1.21985476e-01\n",
      " 1.49879186e-01 1.57490798e-01 1.46577604e-01 1.62559658e-01\n",
      " 1.43325945e-01 1.13981136e-01 1.21419680e-01 1.34306501e-01\n",
      " 1.50341807e-01 1.51077341e-01 1.55866632e-01 1.42294200e-01\n",
      " 1.14503664e-01 1.17692088e-01 1.39272187e-01 1.36516431e-01\n",
      " 1.47276527e-01 1.67681770e-01 1.43638796e-01 1.03899994e-01\n",
      " 7.85889730e-02 9.06137881e-02 1.13322151e-01 1.20001864e-01\n",
      " 1.58985163e-01 1.36792673e-01 1.14397162e-01 1.14566900e-01\n",
      " 1.31437586e-01 1.29899954e-01 1.50202022e-01 1.64020741e-01\n",
      " 1.40457030e-01 1.27959609e-01 1.72660769e-01 1.32682336e-01\n",
      " 1.30029754e-01 1.56768576e-01 1.60735800e-01 1.48681031e-01\n",
      " 1.24900986e-01 1.10809354e-01 1.44237874e-01 1.31274504e-01\n",
      " 1.51932690e-01 1.82885024e-01 1.61674355e-01 1.18943494e-01\n",
      " 1.31051514e-01 1.50731207e-01 1.69924982e-01 1.95029654e-01\n",
      " 1.87657674e-01 1.82895008e-01 1.53034327e-01 1.39032557e-01\n",
      " 1.73835626e-01 1.98953611e-01 2.15934128e-01 2.30135591e-01\n",
      " 1.88905752e-01 1.64303639e-01 2.25376254e-01 2.06202448e-01\n",
      " 2.10678888e-01 2.53975544e-01 2.72690057e-01 2.75465783e-01\n",
      " 2.07027844e-01 2.24021673e-01 2.55732838e-01 2.64346240e-01\n",
      " 3.02930154e-01 3.30371228e-01 2.98719971e-01 3.49129008e-01\n",
      " 2.83599923e-01 4.23341388e-01 3.47934181e-01 4.30560271e-01\n",
      " 4.26120441e-01 4.24379788e-01 3.83309703e-01 4.00829389e-01\n",
      " 4.67626522e-01 4.88414508e-01 5.48322250e-01 6.00402048e-01\n",
      " 5.58892639e-01 4.53821115e-01 5.41246480e-01 5.45686310e-01\n",
      " 5.76615346e-01 6.37385094e-01 6.60093456e-01 5.97200312e-01\n",
      " 4.89070165e-01 5.79404384e-01 5.84246926e-01 6.10403312e-01\n",
      " 3.74509921e-01 6.92044252e-01 5.18072169e-01 4.67040757e-01\n",
      " 5.33581618e-01 6.26831346e-01 6.75273412e-01 7.43591536e-01\n",
      " 7.74287597e-01 7.18263874e-01 6.03247665e-01 6.47033568e-01\n",
      " 7.47022918e-01 7.41018831e-01 7.70240496e-01 7.99066105e-01\n",
      " 7.24873695e-01 6.25606566e-01 6.46717389e-01 6.95568824e-01\n",
      " 8.20882508e-01 7.98437074e-01 8.38149250e-01 6.39355393e-01\n",
      " 6.25753007e-01 6.61324893e-01 6.59341281e-01 7.64236409e-01\n",
      " 6.46188203e-01 3.25764989e-01 7.53559518e-01 5.18684559e-01\n",
      " 5.79614061e-01 6.66999487e-01 7.77805513e-01 7.84125780e-01\n",
      " 5.12264446e-01 1.00000000e+00 6.95106203e-01 6.12406893e-01\n",
      " 7.82268640e-01 8.50813081e-01 9.26363400e-01 9.82676678e-01\n",
      " 8.68552429e-01 7.10289488e-01 7.14446419e-01 7.55393361e-01\n",
      " 7.66489606e-01 7.84678262e-01 8.08022312e-01 6.71825389e-01\n",
      " 5.92191359e-01 4.77923997e-01 5.86483482e-01 6.09930707e-01\n",
      " 6.45193069e-01 6.34888938e-01 5.68321452e-01 4.36654219e-01\n",
      " 5.04812589e-01 4.91330018e-01 5.12414215e-01 5.61814805e-01\n",
      " 5.54522702e-01 4.74133168e-01 3.73265172e-01 4.49224860e-01\n",
      " 3.83752355e-01 4.05012947e-01 4.12717748e-01 4.47384361e-01\n",
      " 3.46719385e-01 2.98693346e-01 3.00996465e-01 3.17061725e-01\n",
      " 3.17011802e-01 3.52004580e-01 3.31722481e-01 2.90282964e-01\n",
      " 2.16782821e-01 1.80651796e-01 2.08006337e-01 2.33437173e-01\n",
      " 2.32678342e-01 2.63866978e-01 2.38619193e-01 1.90213738e-01\n",
      " 1.86908827e-01 2.40529584e-01 2.48780212e-01 2.57949425e-01\n",
      " 2.57433552e-01 2.15088763e-01 1.71143106e-01 1.93362222e-01\n",
      " 1.90034014e-01 2.23625617e-01 2.26517829e-01 2.21056240e-01\n",
      " 1.93881423e-01 1.36699483e-01 1.49493114e-01 1.91927765e-01\n",
      " 1.92686596e-01 2.07916475e-01 2.04728052e-01 1.76498193e-01\n",
      " 1.27397142e-01 1.88180202e-01 1.79749852e-01 1.97296164e-01\n",
      " 2.00940552e-01 2.05187345e-01 1.84778774e-01 1.12566647e-01\n",
      " 1.71189701e-01 1.78684825e-01 2.89347738e-01 2.24807130e-01\n",
      " 2.57526742e-01 2.09151240e-01 1.43855130e-01 2.30554945e-01\n",
      " 2.04448483e-01 2.22207800e-01 2.63324480e-01 2.32598465e-01\n",
      " 2.10545760e-01 1.16929928e-01 2.57616604e-01 2.01935686e-01\n",
      " 2.49685484e-01 2.65903841e-01 2.75276075e-01 2.21948200e-01\n",
      " 1.54791621e-01 2.33224168e-01 2.59487057e-01 2.50956860e-01\n",
      " 2.47312472e-01 2.66492934e-01 1.74837417e-01 1.40187445e-01\n",
      " 2.26667599e-01 2.02850943e-01 2.09194507e-01 2.23915171e-01\n",
      " 2.07716783e-01 1.78042481e-01 1.07011868e-01 1.58316193e-01\n",
      " 1.69192776e-01 1.83550665e-01 1.93871438e-01 1.92766473e-01\n",
      " 1.51070684e-01 9.78592967e-02 1.68044545e-01 1.35534610e-01\n",
      " 1.48784206e-01 1.58279583e-01 1.60186646e-01 1.12077401e-01\n",
      " 7.13135105e-02 1.22471394e-01 1.12034134e-01 1.19236376e-01\n",
      " 1.26724844e-01 1.40650066e-01 9.60420952e-02 5.61635082e-02\n",
      " 9.52566381e-02 9.24875691e-02 9.75198195e-02 1.00531848e-01\n",
      " 9.30100978e-02 6.58918599e-02 4.28273792e-02 8.59176868e-02\n",
      " 7.56801193e-02 7.97971124e-02 9.13526503e-02 7.27512963e-02\n",
      " 3.99418229e-02 2.24121520e-02 1.92204006e-02 7.63490891e-02\n",
      " 5.63032929e-02 6.35022066e-02 5.60803030e-02 4.62820590e-02\n",
      " 1.79556816e-02 5.15739095e-02 4.33099693e-02 6.20610926e-02\n",
      " 4.84087838e-02 8.22034068e-02 2.73844945e-02 1.58988491e-02\n",
      " 4.23680865e-02 3.76253902e-02 4.13529831e-02 3.45900646e-02\n",
      " 6.85311287e-02 2.83563312e-02 1.29533851e-02 4.10501162e-02\n",
      " 3.64105944e-02 4.13895934e-02 4.27009073e-02 7.89284502e-02\n",
      " 2.43059022e-02 1.30465749e-02 5.01993597e-02 3.77751596e-02\n",
      " 4.36594311e-02 4.81358708e-02 9.94867903e-02 1.57723772e-02\n",
      " 1.23043846e-02 1.83983332e-02 8.06225080e-02 7.63191352e-02\n",
      " 6.67671785e-02 1.60556077e-01 3.00803429e-02 2.05150735e-02\n",
      " 1.16530543e-01 8.79445654e-02 1.05986780e-01 9.45610427e-02\n",
      " 2.63960168e-01 4.31335743e-02 4.00982487e-02 1.73436242e-01\n",
      " 1.42124462e-01 1.73173313e-01 1.83244470e-01 3.95361144e-01\n",
      " 9.11762552e-02 5.22894742e-02 2.97601693e-01 2.35437426e-01]\n"
     ]
    }
   ],
   "source": [
    "def create_dataset(dataset, look_back=14):\n",
    "    dataX, dataY = [], []\n",
    "    for i in range(len(dataset) - look_back):\n",
    "        a = dataset[i:(i + look_back)]\n",
    "        dataX.append(a)\n",
    "        dataY.append(dataset[i + look_back])\n",
    "    return np.array(dataX), np.array(dataY)\n",
    "\n",
    "# 创建好输入输出\n",
    "data_X, data_Y = create_dataset(confirmed_data_list)\n",
    "print(data_X)\n",
    "print(data_Y)"
   ]
  },
  {
   "cell_type": "markdown",
   "metadata": {
    "pycharm": {
     "name": "#%% md\n"
    }
   },
   "source": [
    "## 创建训练集与测试集\n",
    "> 数据集的训练与测试比例为 7:3<br/>\n",
    "> 前70%作为训练集，后30%作为测试集"
   ]
  },
  {
   "cell_type": "code",
   "execution_count": 52,
   "metadata": {
    "pycharm": {
     "name": "#%%\n"
    }
   },
   "outputs": [],
   "source": [
    "# 划分训练集和测试集，70% 作为训练集\n",
    "train_size = int(len(data_X) * 0.7)\n",
    "test_size = len(data_X) - train_size\n",
    "train_X = data_X[:train_size]\n",
    "train_Y = data_Y[:train_size]\n",
    "test_X = data_X[train_size:]\n",
    "test_Y = data_Y[train_size:]"
   ]
  },
  {
   "cell_type": "markdown",
   "metadata": {
    "pycharm": {
     "name": "#%% md\n"
    }
   },
   "source": [
    "## 设置LSTM模型数据类型和形状\n",
    "把train_X改造为一个```ndarray```, 里面每个元素长度为14, 也就是说有前面14天的数据。"
   ]
  },
  {
   "cell_type": "code",
   "execution_count": 53,
   "metadata": {
    "pycharm": {
     "name": "#%%\n"
    }
   },
   "outputs": [],
   "source": [
    "train_X = train_X.reshape(-1, 1, 14)\n",
    "train_Y = train_Y.reshape(-1, 1, 1)\n",
    "test_X = test_X.reshape(-1, 1, 14)\n",
    "test_Y = test_Y.reshape(-1, 1, 1)\n",
    "\n",
    "train_x = torch.from_numpy(train_X)\n",
    "train_y = torch.from_numpy(train_Y)\n",
    "test_x = torch.from_numpy(test_X)\n",
    "test_y = torch.from_numpy(test_Y)"
   ]
  },
  {
   "cell_type": "markdown",
   "metadata": {
    "pycharm": {
     "name": "#%% md\n"
    }
   },
   "source": [
    "## 建立LSTM模型\n",
    "第一层为LSTM神经网络, 第二层为一个全连接层"
   ]
  },
  {
   "cell_type": "code",
   "execution_count": 6,
   "metadata": {
    "pycharm": {
     "name": "#%%\n"
    }
   },
   "outputs": [],
   "source": [
    "from torch import nn\n",
    "from torch.autograd import Variable\n",
    "\n",
    "class lstm(nn.Module):\n",
    "    def __init__(self,input_size=14,hidden_size=4,output_size=1,num_layer=2):\n",
    "        super(lstm,self).__init__()\n",
    "        self.layer1 = nn.LSTM(input_size,hidden_size,num_layer)\n",
    "        self.layer2 = nn.Linear(hidden_size,output_size)\n",
    "\n",
    "    def forward(self,x):\n",
    "        x,_ = self.layer1(x)\n",
    "        s,b,h = x.size()\n",
    "        x = x.view(s*b,h)\n",
    "        x = self.layer2(x)\n",
    "        x = x.view(s,b,-1)\n",
    "        return x\n",
    "\n",
    "model = lstm(14, 4, 1, 2)"
   ]
  },
  {
   "cell_type": "markdown",
   "metadata": {
    "pycharm": {
     "name": "#%% md\n"
    }
   },
   "source": [
    "## 建立损失函数和优化器\n",
    "设置均方误差函数和自适应梯度下降算法"
   ]
  },
  {
   "cell_type": "code",
   "execution_count": 36,
   "metadata": {
    "pycharm": {
     "name": "#%%\n"
    }
   },
   "outputs": [],
   "source": [
    "criterion = nn.MSELoss()\n",
    "optimizer = torch.optim.Adam(model.parameters(), lr=1e-2)"
   ]
  },
  {
   "cell_type": "markdown",
   "metadata": {
    "pycharm": {
     "name": "#%% md\n"
    }
   },
   "source": [
    "## 模型训练"
   ]
  },
  {
   "cell_type": "code",
   "execution_count": 14,
   "metadata": {
    "pycharm": {
     "name": "#%%\n"
    }
   },
   "outputs": [
    {
     "name": "stdout",
     "output_type": "stream",
     "text": [
      "Epoch: 100, Loss: 0.00321\n",
      "Epoch: 200, Loss: 0.00229\n",
      "Epoch: 300, Loss: 0.00207\n",
      "Epoch: 400, Loss: 0.00190\n",
      "Epoch: 500, Loss: 0.00176\n",
      "Epoch: 600, Loss: 0.00163\n",
      "Epoch: 700, Loss: 0.00148\n",
      "Epoch: 800, Loss: 0.00132\n",
      "Epoch: 900, Loss: 0.00116\n",
      "Epoch: 1000, Loss: 0.00103\n"
     ]
    }
   ],
   "source": [
    "# 开始训练\n",
    "for e in range(1000):\n",
    "    var_x = Variable(train_x.to(torch.float32))\n",
    "    var_y = Variable(train_y.to(torch.float32))\n",
    "    # 前向传播\n",
    "    out = model(var_x)\n",
    "    loss = criterion(out, var_y)\n",
    "    # 反向传播\n",
    "    optimizer.zero_grad()\n",
    "    loss.backward()\n",
    "    optimizer.step()\n",
    "\n",
    "    if (e + 1) % 100 == 0: # 每 100 次输出结果\n",
    "        print('Epoch: {}, Loss: {:.5f}'.format(e + 1, loss.item()))"
   ]
  },
  {
   "cell_type": "markdown",
   "metadata": {
    "pycharm": {
     "name": "#%% md\n"
    }
   },
   "source": [
    "## 模型预测"
   ]
  },
  {
   "cell_type": "markdown",
   "metadata": {
    "pycharm": {
     "name": "#%% md\n"
    }
   },
   "source": [
    "### 全序列数据预测"
   ]
  },
  {
   "cell_type": "code",
   "execution_count": 25,
   "metadata": {
    "pycharm": {
     "name": "#%%\n"
    }
   },
   "outputs": [
    {
     "name": "stdout",
     "output_type": "stream",
     "text": [
      "[-3.61588597e-03 -1.42335892e-04  8.82253051e-03  9.65777040e-03\n",
      "  8.64836574e-03  7.28625059e-03  6.17170334e-03  5.43430448e-03\n",
      "  4.99606133e-03  4.74134088e-03  4.58523631e-03  4.48065996e-03\n",
      "  4.40460443e-03  4.34738398e-03  4.30560112e-03  4.27386165e-03\n",
      "  4.24847007e-03  4.22993302e-03  4.21619415e-03  4.20674682e-03\n",
      "  4.20090556e-03  4.19452786e-03  4.19551134e-03  4.20051813e-03\n",
      "  4.21464443e-03  4.22826409e-03  4.24256921e-03  4.30017710e-03\n",
      "  4.33453918e-03  4.43729758e-03  4.51946259e-03  4.47708368e-03\n",
      "  4.56190109e-03  4.83977795e-03  5.15088439e-03  5.52794337e-03\n",
      "  5.89165092e-03  5.61687350e-03  6.43083453e-03  8.11570883e-03\n",
      "  9.71886516e-03  1.27996802e-02  1.68158710e-02  1.94305480e-02\n",
      "  2.39810050e-02  3.11411917e-02  3.52672637e-02  3.96581590e-02\n",
      "  4.88691926e-02  5.68427145e-02  6.33051097e-02  6.70532882e-02\n",
      "  6.86287582e-02  7.95415640e-02  9.96079743e-02  1.08612031e-01\n",
      "  1.06320351e-01  1.06338292e-01  1.07470930e-01  1.14339083e-01\n",
      "  1.20728523e-01  1.14883095e-01  1.13548964e-01  1.13680512e-01\n",
      "  1.04045898e-01  9.62713659e-02  9.50803459e-02  9.78193581e-02\n",
      "  9.91935134e-02  9.57433581e-02  9.24961865e-02  8.85078609e-02\n",
      "  8.72630775e-02  9.28549170e-02  9.26791131e-02  9.69893038e-02\n",
      "  1.08532459e-01  1.02405548e-01  9.51986611e-02  9.54609811e-02\n",
      "  8.57444704e-02  8.55689943e-02  9.74497497e-02  9.71103311e-02\n",
      "  9.71221626e-02  9.16249454e-02  7.82766640e-02  7.92680681e-02\n",
      "  8.76612961e-02  9.34969783e-02  9.63250697e-02  8.53089094e-02\n",
      "  7.25761056e-02  6.85012043e-02  6.72764182e-02  7.39647746e-02\n",
      "  7.90684521e-02  8.03769529e-02  7.66712725e-02  6.82347119e-02\n",
      "  6.58742785e-02  7.19135702e-02  7.71978796e-02  7.97389448e-02\n",
      "  8.42361748e-02  7.54326880e-02  6.66396916e-02  6.86984956e-02\n",
      "  6.84536397e-02  7.04609752e-02  7.13911355e-02  6.94575012e-02\n",
      "  6.85099065e-02  7.15340972e-02  6.81112707e-02  6.25941157e-02\n",
      "  6.75796866e-02  7.39095509e-02  7.62931406e-02  7.71128237e-02\n",
      "  6.82944953e-02  6.12250865e-02  6.35206997e-02  6.55852258e-02\n",
      "  7.07125962e-02  7.83492029e-02  7.49965012e-02  7.03648627e-02\n",
      "  6.84522092e-02  6.80241287e-02  7.78246224e-02  9.05540884e-02\n",
      "  9.56657231e-02  9.53513086e-02  9.28130150e-02  8.85265768e-02\n",
      "  1.01703376e-01  1.23294741e-01  1.27646357e-01  1.32857516e-01\n",
      "  1.38316333e-01  1.32691592e-01  1.38471544e-01  1.52153656e-01\n",
      "  1.54882133e-01  1.71554551e-01  1.91837952e-01  1.77177429e-01\n",
      "  1.54032156e-01  1.63767651e-01  1.70231313e-01  1.95716605e-01\n",
      "  2.20231414e-01  2.00904548e-01  1.99195057e-01  2.03985631e-01\n",
      "  2.00883329e-01  2.22965404e-01  2.44560644e-01  2.44497955e-01\n",
      "  2.44806781e-01  2.43502229e-01  2.07056254e-01  2.10628137e-01\n",
      "  2.32173905e-01  2.36302823e-01  2.51915514e-01  2.36209869e-01\n",
      "  2.12000400e-01  2.08091751e-01  2.03160599e-01  2.01790750e-01\n",
      "  2.31545120e-01  2.49315560e-01  2.36854136e-01  2.10325241e-01\n",
      "  1.79495990e-01  1.58769697e-01  1.81957453e-01  2.05865949e-01\n",
      "  2.00024739e-01  1.82184786e-01  1.63809806e-01  1.43930227e-01\n",
      "  1.55037075e-01  1.85199738e-01  1.79035380e-01  1.82719707e-01\n",
      "  1.80100918e-01  1.74479797e-01  1.57561630e-01  1.38065189e-01\n",
      "  1.36857808e-01  1.53247297e-01  1.69414267e-01  1.64453790e-01\n",
      "  1.36570811e-01  1.11786276e-01  1.08209848e-01  1.35713324e-01\n",
      "  1.42386690e-01  1.50835931e-01  1.49200678e-01  1.37323514e-01\n",
      "  1.21950686e-01  1.19382590e-01  1.31090075e-01  1.44521222e-01\n",
      "  1.48735449e-01  1.44593075e-01  1.41571090e-01  1.30803198e-01\n",
      "  1.17229819e-01  1.08756632e-01  1.00791901e-01  1.13721669e-01\n",
      "  1.27957255e-01  1.26012534e-01  1.08274490e-01  9.45599377e-02\n",
      "  1.10776991e-01  1.39255375e-01  1.53847471e-01  1.61377653e-01\n",
      "  1.53655112e-01  1.27652228e-01  1.21792853e-01  1.59937888e-01\n",
      "  1.62000179e-01  1.52418554e-01  1.59108788e-01  1.47793010e-01\n",
      "  1.42060265e-01  1.48654431e-01  1.23094112e-01  1.17971271e-01\n",
      "  1.50986567e-01  1.55441225e-01  1.55302137e-01  1.51298642e-01\n",
      "  1.28907025e-01  1.30963355e-01  1.54548526e-01  1.76399618e-01\n",
      "  2.02767745e-01  1.86501592e-01  1.50736958e-01  1.55519024e-01\n",
      "  1.64216042e-01  1.85773745e-01  2.16836527e-01  2.20218912e-01\n",
      "  2.07010955e-01  1.82078019e-01  1.61942095e-01  2.18923301e-01\n",
      "  2.56379366e-01  2.44875759e-01  2.47235432e-01  2.40746558e-01\n",
      "  2.44332522e-01  2.58897156e-01  2.42107987e-01  2.53346413e-01\n",
      "  2.99107909e-01  3.24794799e-01  3.14781994e-01  2.85480142e-01\n",
      "  3.12305480e-01  3.41776758e-01  3.88754368e-01  4.29072380e-01\n",
      "  4.28523302e-01  4.32222128e-01  4.16768193e-01  4.13168132e-01\n",
      "  4.36490417e-01  4.66382027e-01  5.09481788e-01  5.28948426e-01\n",
      "  5.70637584e-01  5.29450536e-01  5.01405478e-01  5.32970428e-01\n",
      "  5.67117512e-01  6.05539918e-01  6.39194727e-01  6.23107135e-01\n",
      "  5.23006916e-01  5.33739090e-01  5.64002156e-01  6.07600033e-01\n",
      "  6.64479136e-01  6.13516092e-01  5.31597018e-01  5.21775007e-01\n",
      "  4.79819566e-01  5.90172529e-01  6.08110249e-01  6.02703810e-01\n",
      "  7.40560174e-01  7.44250894e-01  6.56728148e-01  6.63198829e-01\n",
      "  7.46959090e-01  7.15480924e-01  7.83504009e-01  7.50765085e-01\n",
      "  7.24394679e-01  5.96669674e-01  6.61184311e-01  7.30429411e-01\n",
      "  6.98788345e-01  8.45413566e-01  7.45549321e-01  6.36313319e-01\n",
      "  5.78314424e-01  6.06158435e-01  7.14774132e-01  8.37080002e-01\n",
      "  7.18721390e-01  5.38094759e-01  7.98434258e-01  5.20638227e-01\n",
      "  6.04282856e-01  6.74552500e-01  7.14214027e-01  7.28925884e-01\n",
      "  5.66612363e-01  9.62077737e-01  7.83738852e-01  6.49864912e-01\n",
      "  7.67279983e-01  8.00217628e-01  8.64126682e-01  8.94761086e-01\n",
      "  8.86473298e-01  7.08016098e-01  7.30773211e-01  7.94412732e-01\n",
      "  7.57617295e-01  7.80346274e-01  8.71557832e-01  5.91473877e-01\n",
      "  5.46903729e-01  5.18209040e-01  5.38986027e-01  5.68107307e-01\n",
      "  6.29542470e-01  6.51872694e-01  5.66199660e-01  4.75389242e-01\n",
      "  5.09216309e-01  5.26476622e-01  5.03799915e-01  5.90934038e-01\n",
      "  5.42284966e-01  4.79955018e-01  3.94255102e-01  3.89315724e-01\n",
      "  4.13417190e-01  4.35513854e-01  4.52226728e-01  4.27840918e-01\n",
      "  3.43791515e-01  2.91866124e-01  2.91191965e-01  2.80124873e-01\n",
      "  3.15059215e-01  3.46587807e-01  3.59754443e-01  2.88231254e-01\n",
      "  2.38614157e-01  2.18382001e-01  2.00029343e-01  2.04242855e-01\n",
      "  2.58939207e-01  2.33820856e-01  1.93274990e-01  1.71097219e-01\n",
      "  1.59081757e-01  1.90373525e-01  2.59757191e-01  2.76521266e-01\n",
      "  2.73429990e-01  2.44048238e-01  1.89250216e-01  1.68597370e-01\n",
      "  2.24770546e-01  2.32885808e-01  2.34362215e-01  2.31447190e-01\n",
      "  1.91037536e-01  1.58325642e-01  1.57005459e-01  1.62070125e-01\n",
      "  2.02965781e-01  2.16390476e-01  2.00577810e-01  1.69476628e-01\n",
      "  1.44319534e-01  1.36201322e-01  1.97034746e-01  2.16677129e-01\n",
      "  2.05548465e-01  2.01428235e-01  1.70132041e-01  1.55569047e-01\n",
      "  1.60809204e-01  1.72496274e-01  1.94292679e-01  2.48113558e-01\n",
      "  2.60211706e-01  2.08013058e-01  1.92864895e-01  1.74160540e-01\n",
      "  2.45493099e-01  2.86761999e-01  2.52966136e-01  2.40399122e-01\n",
      "  2.04134583e-01  1.82146147e-01  1.73102349e-01  2.43497729e-01\n",
      "  2.53143787e-01  2.56858349e-01  2.70196497e-01  2.11789697e-01\n",
      "  2.05230877e-01  2.21226975e-01  2.36120760e-01  2.83087194e-01\n",
      "  2.90867865e-01  2.74180174e-01  2.01389715e-01  1.76472455e-01\n",
      "  1.73389912e-01  2.51652360e-01  2.45014921e-01  2.18719050e-01\n",
      "  2.15595931e-01  1.60212755e-01  1.43615037e-01  1.74261004e-01\n",
      "  1.69129416e-01  1.68395922e-01  1.88424990e-01  1.80842116e-01\n",
      "  1.41927496e-01  1.29125148e-01  1.24203950e-01  1.66256189e-01\n",
      "  1.76938176e-01  1.58000469e-01  1.53791800e-01  1.17272615e-01\n",
      "  9.91585553e-02  1.02970928e-01  1.15795642e-01  1.20165765e-01\n",
      "  1.25024229e-01  1.21987611e-01  9.26540792e-02  8.53653550e-02\n",
      "  8.29479098e-02  9.45754349e-02  9.98081565e-02  1.04520649e-01\n",
      "  1.01713926e-01  7.17475712e-02  5.42822778e-02  5.84330261e-02\n",
      "  7.99313486e-02  8.51118863e-02  8.24311674e-02  7.81889856e-02\n",
      "  5.81087768e-02  4.67938185e-02  4.80011404e-02  4.26612794e-02\n",
      "  5.30748069e-02  6.57205582e-02  5.27363122e-02  3.71445715e-02\n",
      "  3.19728255e-02  3.52361500e-02  5.67996204e-02  6.20295107e-02\n",
      "  5.32231927e-02  4.99906838e-02  4.95921671e-02  4.24193144e-02\n",
      "  3.69663835e-02  4.52494919e-02  4.63142991e-02  4.75488007e-02\n",
      "  4.44175899e-02  3.69198024e-02  3.12372148e-02  3.05563509e-02\n",
      "  3.98913920e-02  3.90672088e-02  4.46543396e-02  4.71146405e-02\n",
      "  4.69034612e-02  3.80528867e-02  3.17818820e-02  4.30718958e-02\n",
      "  4.44454253e-02  5.13462126e-02  5.41436970e-02  5.38300574e-02\n",
      "  4.18503582e-02  3.34990025e-02  3.41698229e-02  4.68647182e-02\n",
      "  8.13092887e-02  7.75818825e-02  8.07910264e-02  6.18483424e-02\n",
      "  4.51511741e-02  9.97483432e-02  1.14547223e-01  1.16405487e-01\n",
      "  1.15181595e-01  1.30451202e-01  1.06479377e-01  8.75189602e-02\n",
      "  1.46032333e-01  1.48726061e-01  1.91723064e-01  2.12419197e-01\n",
      "  2.13212788e-01  1.84918687e-01  1.30416423e-01  2.46521696e-01]\n"
     ]
    }
   ],
   "source": [
    "model = model.eval() # 转换成测试模式\n",
    "\n",
    "data_X = data_X.reshape(-1, 1, 14)\n",
    "data_X = torch.from_numpy(data_X)\n",
    "var_data = Variable(data_X.to(torch.float32))\n",
    "pred_test = model(var_data) # 测试集的预测结果\n",
    "# 改变输出的格式\n",
    "pred_test = pred_test.view(-1).data.numpy()\n",
    "print(pred_test)"
   ]
  },
  {
   "cell_type": "code",
   "execution_count": 27,
   "metadata": {
    "pycharm": {
     "name": "#%%\n"
    }
   },
   "outputs": [
    {
     "name": "stdout",
     "output_type": "stream",
     "text": [
      "[ 0.00000000e+00  0.00000000e+00  0.00000000e+00  0.00000000e+00\n",
      "  0.00000000e+00  0.00000000e+00  0.00000000e+00  0.00000000e+00\n",
      "  0.00000000e+00  0.00000000e+00  0.00000000e+00  0.00000000e+00\n",
      "  0.00000000e+00  0.00000000e+00 -3.61588597e-03 -1.42335892e-04\n",
      "  8.82253051e-03  9.65777040e-03  8.64836574e-03  7.28625059e-03\n",
      "  6.17170334e-03  5.43430448e-03  4.99606133e-03  4.74134088e-03\n",
      "  4.58523631e-03  4.48065996e-03  4.40460443e-03  4.34738398e-03\n",
      "  4.30560112e-03  4.27386165e-03  4.24847007e-03  4.22993302e-03\n",
      "  4.21619415e-03  4.20674682e-03  4.20090556e-03  4.19452786e-03\n",
      "  4.19551134e-03  4.20051813e-03  4.21464443e-03  4.22826409e-03\n",
      "  4.24256921e-03  4.30017710e-03  4.33453918e-03  4.43729758e-03\n",
      "  4.51946259e-03  4.47708368e-03  4.56190109e-03  4.83977795e-03\n",
      "  5.15088439e-03  5.52794337e-03  5.89165092e-03  5.61687350e-03\n",
      "  6.43083453e-03  8.11570883e-03  9.71886516e-03  1.27996802e-02\n",
      "  1.68158710e-02  1.94305480e-02  2.39810050e-02  3.11411917e-02\n",
      "  3.52672637e-02  3.96581590e-02  4.88691926e-02  5.68427145e-02\n",
      "  6.33051097e-02  6.70532882e-02  6.86287582e-02  7.95415640e-02\n",
      "  9.96079743e-02  1.08612031e-01  1.06320351e-01  1.06338292e-01\n",
      "  1.07470930e-01  1.14339083e-01  1.20728523e-01  1.14883095e-01\n",
      "  1.13548964e-01  1.13680512e-01  1.04045898e-01  9.62713659e-02\n",
      "  9.50803459e-02  9.78193581e-02  9.91935134e-02  9.57433581e-02\n",
      "  9.24961865e-02  8.85078609e-02  8.72630775e-02  9.28549170e-02\n",
      "  9.26791131e-02  9.69893038e-02  1.08532459e-01  1.02405548e-01\n",
      "  9.51986611e-02  9.54609811e-02  8.57444704e-02  8.55689943e-02\n",
      "  9.74497497e-02  9.71103311e-02  9.71221626e-02  9.16249454e-02\n",
      "  7.82766640e-02  7.92680681e-02  8.76612961e-02  9.34969783e-02\n",
      "  9.63250697e-02  8.53089094e-02  7.25761056e-02  6.85012043e-02\n",
      "  6.72764182e-02  7.39647746e-02  7.90684521e-02  8.03769529e-02\n",
      "  7.66712725e-02  6.82347119e-02  6.58742785e-02  7.19135702e-02\n",
      "  7.71978796e-02  7.97389448e-02  8.42361748e-02  7.54326880e-02\n",
      "  6.66396916e-02  6.86984956e-02  6.84536397e-02  7.04609752e-02\n",
      "  7.13911355e-02  6.94575012e-02  6.85099065e-02  7.15340972e-02\n",
      "  6.81112707e-02  6.25941157e-02  6.75796866e-02  7.39095509e-02\n",
      "  7.62931406e-02  7.71128237e-02  6.82944953e-02  6.12250865e-02\n",
      "  6.35206997e-02  6.55852258e-02  7.07125962e-02  7.83492029e-02\n",
      "  7.49965012e-02  7.03648627e-02  6.84522092e-02  6.80241287e-02\n",
      "  7.78246224e-02  9.05540884e-02  9.56657231e-02  9.53513086e-02\n",
      "  9.28130150e-02  8.85265768e-02  1.01703376e-01  1.23294741e-01\n",
      "  1.27646357e-01  1.32857516e-01  1.38316333e-01  1.32691592e-01\n",
      "  1.38471544e-01  1.52153656e-01  1.54882133e-01  1.71554551e-01\n",
      "  1.91837952e-01  1.77177429e-01  1.54032156e-01  1.63767651e-01\n",
      "  1.70231313e-01  1.95716605e-01  2.20231414e-01  2.00904548e-01\n",
      "  1.99195057e-01  2.03985631e-01  2.00883329e-01  2.22965404e-01\n",
      "  2.44560644e-01  2.44497955e-01  2.44806781e-01  2.43502229e-01\n",
      "  2.07056254e-01  2.10628137e-01  2.32173905e-01  2.36302823e-01\n",
      "  2.51915514e-01  2.36209869e-01  2.12000400e-01  2.08091751e-01\n",
      "  2.03160599e-01  2.01790750e-01  2.31545120e-01  2.49315560e-01\n",
      "  2.36854136e-01  2.10325241e-01  1.79495990e-01  1.58769697e-01\n",
      "  1.81957453e-01  2.05865949e-01  2.00024739e-01  1.82184786e-01\n",
      "  1.63809806e-01  1.43930227e-01  1.55037075e-01  1.85199738e-01\n",
      "  1.79035380e-01  1.82719707e-01  1.80100918e-01  1.74479797e-01\n",
      "  1.57561630e-01  1.38065189e-01  1.36857808e-01  1.53247297e-01\n",
      "  1.69414267e-01  1.64453790e-01  1.36570811e-01  1.11786276e-01\n",
      "  1.08209848e-01  1.35713324e-01  1.42386690e-01  1.50835931e-01\n",
      "  1.49200678e-01  1.37323514e-01  1.21950686e-01  1.19382590e-01\n",
      "  1.31090075e-01  1.44521222e-01  1.48735449e-01  1.44593075e-01\n",
      "  1.41571090e-01  1.30803198e-01  1.17229819e-01  1.08756632e-01\n",
      "  1.00791901e-01  1.13721669e-01  1.27957255e-01  1.26012534e-01\n",
      "  1.08274490e-01  9.45599377e-02  1.10776991e-01  1.39255375e-01\n",
      "  1.53847471e-01  1.61377653e-01  1.53655112e-01  1.27652228e-01\n",
      "  1.21792853e-01  1.59937888e-01  1.62000179e-01  1.52418554e-01\n",
      "  1.59108788e-01  1.47793010e-01  1.42060265e-01  1.48654431e-01\n",
      "  1.23094112e-01  1.17971271e-01  1.50986567e-01  1.55441225e-01\n",
      "  1.55302137e-01  1.51298642e-01  1.28907025e-01  1.30963355e-01\n",
      "  1.54548526e-01  1.76399618e-01  2.02767745e-01  1.86501592e-01\n",
      "  1.50736958e-01  1.55519024e-01  1.64216042e-01  1.85773745e-01\n",
      "  2.16836527e-01  2.20218912e-01  2.07010955e-01  1.82078019e-01\n",
      "  1.61942095e-01  2.18923301e-01  2.56379366e-01  2.44875759e-01\n",
      "  2.47235432e-01  2.40746558e-01  2.44332522e-01  2.58897156e-01\n",
      "  2.42107987e-01  2.53346413e-01  2.99107909e-01  3.24794799e-01\n",
      "  3.14781994e-01  2.85480142e-01  3.12305480e-01  3.41776758e-01\n",
      "  3.88754368e-01  4.29072380e-01  4.28523302e-01  4.32222128e-01\n",
      "  4.16768193e-01  4.13168132e-01  4.36490417e-01  4.66382027e-01\n",
      "  5.09481788e-01  5.28948426e-01  5.70637584e-01  5.29450536e-01\n",
      "  5.01405478e-01  5.32970428e-01  5.67117512e-01  6.05539918e-01\n",
      "  6.39194727e-01  6.23107135e-01  5.23006916e-01  5.33739090e-01\n",
      "  5.64002156e-01  6.07600033e-01  6.64479136e-01  6.13516092e-01\n",
      "  5.31597018e-01  5.21775007e-01  4.79819566e-01  5.90172529e-01\n",
      "  6.08110249e-01  6.02703810e-01  7.40560174e-01  7.44250894e-01\n",
      "  6.56728148e-01  6.63198829e-01  7.46959090e-01  7.15480924e-01\n",
      "  7.83504009e-01  7.50765085e-01  7.24394679e-01  5.96669674e-01\n",
      "  6.61184311e-01  7.30429411e-01  6.98788345e-01  8.45413566e-01\n",
      "  7.45549321e-01  6.36313319e-01  5.78314424e-01  6.06158435e-01\n",
      "  7.14774132e-01  8.37080002e-01  7.18721390e-01  5.38094759e-01\n",
      "  7.98434258e-01  5.20638227e-01  6.04282856e-01  6.74552500e-01\n",
      "  7.14214027e-01  7.28925884e-01  5.66612363e-01  9.62077737e-01\n",
      "  7.83738852e-01  6.49864912e-01  7.67279983e-01  8.00217628e-01\n",
      "  8.64126682e-01  8.94761086e-01  8.86473298e-01  7.08016098e-01\n",
      "  7.30773211e-01  7.94412732e-01  7.57617295e-01  7.80346274e-01\n",
      "  8.71557832e-01  5.91473877e-01  5.46903729e-01  5.18209040e-01\n",
      "  5.38986027e-01  5.68107307e-01  6.29542470e-01  6.51872694e-01\n",
      "  5.66199660e-01  4.75389242e-01  5.09216309e-01  5.26476622e-01\n",
      "  5.03799915e-01  5.90934038e-01  5.42284966e-01  4.79955018e-01\n",
      "  3.94255102e-01  3.89315724e-01  4.13417190e-01  4.35513854e-01\n",
      "  4.52226728e-01  4.27840918e-01  3.43791515e-01  2.91866124e-01\n",
      "  2.91191965e-01  2.80124873e-01  3.15059215e-01  3.46587807e-01\n",
      "  3.59754443e-01  2.88231254e-01  2.38614157e-01  2.18382001e-01\n",
      "  2.00029343e-01  2.04242855e-01  2.58939207e-01  2.33820856e-01\n",
      "  1.93274990e-01  1.71097219e-01  1.59081757e-01  1.90373525e-01\n",
      "  2.59757191e-01  2.76521266e-01  2.73429990e-01  2.44048238e-01\n",
      "  1.89250216e-01  1.68597370e-01  2.24770546e-01  2.32885808e-01\n",
      "  2.34362215e-01  2.31447190e-01  1.91037536e-01  1.58325642e-01\n",
      "  1.57005459e-01  1.62070125e-01  2.02965781e-01  2.16390476e-01\n",
      "  2.00577810e-01  1.69476628e-01  1.44319534e-01  1.36201322e-01\n",
      "  1.97034746e-01  2.16677129e-01  2.05548465e-01  2.01428235e-01\n",
      "  1.70132041e-01  1.55569047e-01  1.60809204e-01  1.72496274e-01\n",
      "  1.94292679e-01  2.48113558e-01  2.60211706e-01  2.08013058e-01\n",
      "  1.92864895e-01  1.74160540e-01  2.45493099e-01  2.86761999e-01\n",
      "  2.52966136e-01  2.40399122e-01  2.04134583e-01  1.82146147e-01\n",
      "  1.73102349e-01  2.43497729e-01  2.53143787e-01  2.56858349e-01\n",
      "  2.70196497e-01  2.11789697e-01  2.05230877e-01  2.21226975e-01\n",
      "  2.36120760e-01  2.83087194e-01  2.90867865e-01  2.74180174e-01\n",
      "  2.01389715e-01  1.76472455e-01  1.73389912e-01  2.51652360e-01\n",
      "  2.45014921e-01  2.18719050e-01  2.15595931e-01  1.60212755e-01\n",
      "  1.43615037e-01  1.74261004e-01  1.69129416e-01  1.68395922e-01\n",
      "  1.88424990e-01  1.80842116e-01  1.41927496e-01  1.29125148e-01\n",
      "  1.24203950e-01  1.66256189e-01  1.76938176e-01  1.58000469e-01\n",
      "  1.53791800e-01  1.17272615e-01  9.91585553e-02  1.02970928e-01\n",
      "  1.15795642e-01  1.20165765e-01  1.25024229e-01  1.21987611e-01\n",
      "  9.26540792e-02  8.53653550e-02  8.29479098e-02  9.45754349e-02\n",
      "  9.98081565e-02  1.04520649e-01  1.01713926e-01  7.17475712e-02\n",
      "  5.42822778e-02  5.84330261e-02  7.99313486e-02  8.51118863e-02\n",
      "  8.24311674e-02  7.81889856e-02  5.81087768e-02  4.67938185e-02\n",
      "  4.80011404e-02  4.26612794e-02  5.30748069e-02  6.57205582e-02\n",
      "  5.27363122e-02  3.71445715e-02  3.19728255e-02  3.52361500e-02\n",
      "  5.67996204e-02  6.20295107e-02  5.32231927e-02  4.99906838e-02\n",
      "  4.95921671e-02  4.24193144e-02  3.69663835e-02  4.52494919e-02\n",
      "  4.63142991e-02  4.75488007e-02  4.44175899e-02  3.69198024e-02\n",
      "  3.12372148e-02  3.05563509e-02  3.98913920e-02  3.90672088e-02\n",
      "  4.46543396e-02  4.71146405e-02  4.69034612e-02  3.80528867e-02\n",
      "  3.17818820e-02  4.30718958e-02  4.44454253e-02  5.13462126e-02\n",
      "  5.41436970e-02  5.38300574e-02  4.18503582e-02  3.34990025e-02\n",
      "  3.41698229e-02  4.68647182e-02  8.13092887e-02  7.75818825e-02\n",
      "  8.07910264e-02  6.18483424e-02  4.51511741e-02  9.97483432e-02\n",
      "  1.14547223e-01  1.16405487e-01  1.15181595e-01  1.30451202e-01\n",
      "  1.06479377e-01  8.75189602e-02  1.46032333e-01  1.48726061e-01\n",
      "  1.91723064e-01  2.12419197e-01  2.13212788e-01  1.84918687e-01\n",
      "  1.30416423e-01  2.46521696e-01]\n"
     ]
    }
   ],
   "source": [
    "zero_x = [0 for i in range(14)]\n",
    "pred_test = np.array(zero_x + list(pred_test))\n",
    "print(pred_test)"
   ]
  },
  {
   "cell_type": "markdown",
   "metadata": {
    "pycharm": {
     "name": "#%% md\n"
    }
   },
   "source": [
    "### 测试集预测"
   ]
  },
  {
   "cell_type": "code",
   "execution_count": 54,
   "metadata": {
    "pycharm": {
     "name": "#%%\n"
    }
   },
   "outputs": [
    {
     "name": "stdout",
     "output_type": "stream",
     "text": [
      "Test loss is 0.00156\n"
     ]
    }
   ],
   "source": [
    "test_X = torch.from_numpy(test_X)\n",
    "var_test_data = Variable(test_X.to(torch.float32))\n",
    "var_test_y = Variable(test_y.to(torch.float32))\n",
    "pred_test_data = model(var_test_data)\n",
    "test_loss = criterion(pred_test_data,var_test_y)\n",
    "print('Test loss is {:.5f}'.format(test_loss.item()))\n",
    "pred_test_data = pred_test_data.view(-1).data.numpy()"
   ]
  },
  {
   "cell_type": "markdown",
   "metadata": {
    "pycharm": {
     "name": "#%% md\n"
    }
   },
   "source": [
    "### 用最近14天的数据预测今天的新增人数"
   ]
  },
  {
   "cell_type": "code",
   "execution_count": 17,
   "metadata": {
    "pycharm": {
     "name": "#%%\n"
    }
   },
   "outputs": [
    {
     "name": "stdout",
     "output_type": "stream",
     "text": [
      "[[[0.24642801]]]\n"
     ]
    }
   ],
   "source": [
    "# 用recent_data中的最后14位预测接下来1天的数据\n",
    "recent_data = np.array([confirmed_data_list[i] for i in range(len(confirmed_data_list)-14,len(confirmed_data_list))])\n",
    "recent_data = recent_data.reshape(-1, 1, 14)\n",
    "recent_data = torch.from_numpy(recent_data)\n",
    "var_recent_data = Variable(recent_data.to(torch.float32))\n",
    "# 开始预测\n",
    "pre_recent_data = model(var_recent_data)\n",
    "# 预测结果由tensor转numpy\n",
    "pre_recent_data = pre_recent_data.detach().numpy()\n",
    "print(pre_recent_data)"
   ]
  },
  {
   "cell_type": "markdown",
   "metadata": {},
   "source": [
    "结果转译，也就是转为具体人数"
   ]
  },
  {
   "cell_type": "code",
   "execution_count": 18,
   "metadata": {
    "pycharm": {
     "name": "#%%\n"
    }
   },
   "outputs": [
    {
     "name": "stdout",
     "output_type": "stream",
     "text": [
      "74042\n"
     ]
    }
   ],
   "source": [
    "result = pre_recent_data[0][0][0]\n",
    "result = result * scalar + min_v\n",
    "# 四舍五入\n",
    "result = int(result + 0.5)\n",
    "print(result)"
   ]
  },
  {
   "cell_type": "markdown",
   "metadata": {
    "pycharm": {
     "name": "#%% md\n"
    }
   },
   "source": [
    "为了方便后续的预测，做一个预测函数"
   ]
  },
  {
   "cell_type": "code",
   "execution_count": 19,
   "metadata": {
    "pycharm": {
     "name": "#%%\n"
    }
   },
   "outputs": [],
   "source": [
    "def predict_latter(days, origin_data):\n",
    "    temp_data = origin_data[:]\n",
    "    current_date = utils.get_newly_date()\n",
    "    day_array = []\n",
    "    result_array = []\n",
    "    for j in range(days):\n",
    "        current_date = current_date + datetime.timedelta(days=1)\n",
    "        current = np.array([temp_data[i] for i in range(len(temp_data) - 14, len(temp_data))])\n",
    "        current = current.reshape(-1, 1, 14)\n",
    "        current = torch.from_numpy(current)\n",
    "        var_current_data = Variable(current.to(torch.float32))\n",
    "        # 开始预测\n",
    "        pre_current_data = model(var_current_data)\n",
    "        # 预测结果由tensor转numpy\n",
    "        pre_current_data = pre_current_data.detach().numpy()\n",
    "        print(pre_current_data)\n",
    "        today_result = pre_current_data[0][0][0]\n",
    "        temp_data.append(today_result)\n",
    "        today_result = today_result * scalar + min_v\n",
    "        # 四舍五入\n",
    "        today_result = int(today_result + 0.5)\n",
    "        day_array.append(str(current_date))\n",
    "        result_array.append(today_result)\n",
    "    return day_array, result_array"
   ]
  },
  {
   "cell_type": "markdown",
   "metadata": {
    "pycharm": {
     "name": "#%% md\n"
    }
   },
   "source": [
    "预测一下接下来5天的数据"
   ]
  },
  {
   "cell_type": "code",
   "execution_count": 35,
   "metadata": {
    "pycharm": {
     "name": "#%%\n"
    }
   },
   "outputs": [
    {
     "name": "stdout",
     "output_type": "stream",
     "text": [
      "[[[0.24642801]]]\n",
      "[[[0.30649292]]]\n",
      "[[[0.36019188]]]\n",
      "[[[0.22023024]]]\n",
      "[[[0.20934641]]]\n",
      "['2021-07-28', '2021-07-29', '2021-07-30', '2021-07-31', '2021-08-01']\n",
      "[74042, 92089, 108224, 66171, 62901]\n"
     ]
    }
   ],
   "source": [
    "next_days, next_days_data = predict_latter(5, confirmed_data_list)\n",
    "print(next_days)\n",
    "print(next_days_data)"
   ]
  },
  {
   "cell_type": "markdown",
   "metadata": {
    "pycharm": {
     "name": "#%% md\n"
    }
   },
   "source": [
    "## 预测序列可视化"
   ]
  },
  {
   "cell_type": "markdown",
   "metadata": {
    "pycharm": {
     "name": "#%% md\n"
    }
   },
   "source": [
    "### 全序列可视化"
   ]
  },
  {
   "cell_type": "code",
   "execution_count": 28,
   "metadata": {
    "pycharm": {
     "name": "#%%\n"
    }
   },
   "outputs": [
    {
     "data": {
      "text/plain": [
       "<matplotlib.legend.Legend at 0x126d5c940>"
      ]
     },
     "execution_count": 28,
     "metadata": {},
     "output_type": "execute_result"
    },
    {
     "data": {
      "image/png": "[encoded data removed]",
      "text/plain": [
       "<Figure size 432x288 with 1 Axes>"
      ]
     },
     "metadata": {
      "needs_background": "light"
     },
     "output_type": "display_data"
    }
   ],
   "source": [
    "# 画出实际结果和预测的结果\n",
    "plt.plot(pred_test, 'r', label='prediction')\n",
    "plt.plot(confirmed_data_list, 'b', label='real')\n",
    "plt.legend(loc='best')"
   ]
  },
  {
   "cell_type": "markdown",
   "metadata": {
    "pycharm": {
     "name": "#%% md\n"
    }
   },
   "source": [
    "### 预测序列可视化"
   ]
  },
  {
   "cell_type": "code",
   "execution_count": 32,
   "metadata": {
    "pycharm": {
     "name": "#%%\n"
    }
   },
   "outputs": [
    {
     "data": {
      "image/png": "[encoded data removed]",
      "text/plain": [
       "<Figure size 432x288 with 1 Axes>"
      ]
     },
     "metadata": {
      "needs_background": "light"
     },
     "output_type": "display_data"
    }
   ],
   "source": [
    "plt.plot([pred_test_data[i] * scalar + min_v for i in range(len(pred_test_data))], 'r', label='prediction')\n",
    "plt.plot([test_Y[i] * scalar + min_v for i in range(len(test_Y))], 'b', label='real')\n",
    "plt.legend(loc='best')\n",
    "plt.show()"
   ]
  },
  {
   "cell_type": "markdown",
   "metadata": {
    "pycharm": {
     "name": "#%% md\n"
    }
   },
   "source": [
    "### 序列 ```rolling mean``` 可视化"
   ]
  },
  {
   "cell_type": "code",
   "execution_count": 29,
   "metadata": {
    "pycharm": {
     "name": "#%%\n"
    }
   },
   "outputs": [
    {
     "data": {
      "text/plain": [
       "<matplotlib.legend.Legend at 0x126f01910>"
      ]
     },
     "execution_count": 29,
     "metadata": {},
     "output_type": "execute_result"
    },
    {
     "data": {
      "image/png": "[encoded data removed]",
      "text/plain": [
       "<Figure size 432x288 with 1 Axes>"
      ]
     },
     "metadata": {
      "needs_background": "light"
     },
     "output_type": "display_data"
    }
   ],
   "source": [
    "# 上面的这个图像抖动太严重，为了让实验结果更友好，采用可视化rolling mean\n",
    "origin_dataframe = pd.DataFrame(confirmed_data_list)\n",
    "rolmean_origin = origin_dataframe.rolling(14).mean()\n",
    "pred_test_dataframe = pd.DataFrame(pred_test)\n",
    "rolmean_pre = pred_test_dataframe.rolling(14).mean()\n",
    "plt.plot(rolmean_pre,'r', label='pred rolling mean')\n",
    "plt.plot(rolmean_origin, 'b', label='real rolling mean')\n",
    "plt.legend(loc='best')"
   ]
  },
  {
   "cell_type": "markdown",
   "metadata": {},
   "source": [
    "接下来5天的新增趋势走向"
   ]
  },
  {
   "cell_type": "code",
   "execution_count": 36,
   "metadata": {
    "pycharm": {
     "name": "#%%\n"
    }
   },
   "outputs": [
    {
     "data": {
      "image/png": "[encoded data removed]",
      "text/plain": [
       "<Figure size 432x288 with 1 Axes>"
      ]
     },
     "metadata": {
      "needs_background": "light"
     },
     "output_type": "display_data"
    }
   ],
   "source": [
    "# 解决显示中文\n",
    "plt.rcParams['font.sans-serif'] = ['Arial Unicode MS']\n",
    "plt.rcParams['axes.unicode_minus'] = False\n",
    "# 绘图\n",
    "plt.plot(next_days, next_days_data, c='r', linestyle=':', marker='o')\n",
    "plt.ylabel('新增人数')\n",
    "plt.xlabel('日期')\n",
    "plt.show()"
   ]
  },
  {
   "cell_type": "markdown",
   "metadata": {
    "pycharm": {
     "name": "#%% md\n"
    }
   },
   "source": [
    "## 模型保存与加载\n",
    "### 模型保存\n",
    "> 方法一: 只保存参数。优点有速度快, 占空间少<br/>\n",
    "> 方法二: 全部保存<br/>"
   ]
  },
  {
   "cell_type": "code",
   "execution_count": 28,
   "metadata": {
    "pycharm": {
     "name": "#%%\n"
    }
   },
   "outputs": [],
   "source": [
    "PATH = 'models/COVID_US_LSTM.pt'\n",
    "# 方法一\n",
    "torch.save(model.state_dict(),PATH)\n",
    "# 方法二:\n",
    "# torch.save(model, PATH)"
   ]
  },
  {
   "cell_type": "markdown",
   "metadata": {},
   "source": [
    "### 模型加载\n"
   ]
  },
  {
   "cell_type": "code",
   "execution_count": 8,
   "metadata": {
    "pycharm": {
     "name": "#%%\n"
    }
   },
   "outputs": [
    {
     "data": {
      "text/plain": [
       "<All keys matched successfully>"
      ]
     },
     "execution_count": 8,
     "metadata": {},
     "output_type": "execute_result"
    }
   ],
   "source": [
    "PATH = 'models/COVID_US_LSTM.pt'\n",
    "# 方法一\n",
    "model = lstm(14, 4, 1, 2)\n",
    "model.load_state_dict(torch.load(PATH))"
   ]
  }
 ],
 "metadata": {
  "kernelspec": {
   "display_name": "Python 3 (ipykernel)",
   "language": "python",
   "name": "python3"
  },
  "language_info": {
   "codemirror_mode": {
    "name": "ipython",
    "version": 3
   },
   "file_extension": ".py",
   "mimetype": "text/x-python",
   "name": "python",
   "nbconvert_exporter": "python",
   "pygments_lexer": "ipython3",
   "version": "3.8.6"
  }
 },
 "nbformat": 4,
 "nbformat_minor": 1
}